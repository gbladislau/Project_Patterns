{
 "cells": [
  {
   "cell_type": "markdown",
   "id": "8268831c-2071-477a-8889-2ea0305fe36c",
   "metadata": {},
   "source": [
    "# Adapters"
   ]
  },
  {
   "cell_type": "markdown",
   "id": "32982d0a-2b7a-4d23-a16c-51656c308a34",
   "metadata": {},
   "source": [
    "## Exercício 1.1"
   ]
  },
  {
   "cell_type": "markdown",
   "id": "bf242a32-9491-45d0-b814-e425c690030e",
   "metadata": {},
   "source": [
    "A implementação de um adapter de classe aqui se deve ao fato de que precisamos determinar um novo construtor para a classe de forma independente ao código original.\n",
    "Com isso, não precisamos construir uma HashMap e depois montar ela por meio de uma função, mas sim, chamar um adaptador que lida com os tipos de dados fornecidos."
   ]
  },
  {
   "cell_type": "code",
   "execution_count": 38,
   "id": "f83e9165-4275-4b94-bff6-2174e2153c11",
   "metadata": {
    "vscode": {
     "languageId": "java"
    }
   },
   "outputs": [],
   "source": [
    "import java.util.HashMap;\n",
    "\n",
    "public class HashMapAdapter extends HashMap {\n",
    "    public HashMapAdapter(int[][] key_value_matrix) {\n",
    "        for (int i = 0; i < key_value_matrix[0].length; i++)\n",
    "            this.put(key_value_matrix[0][i], key_value_matrix[1][i]);\n",
    "    }\n",
    "}"
   ]
  },
  {
   "cell_type": "code",
   "execution_count": 39,
   "id": "2f8b69e7-e1c7-4ba8-bd70-44bbb69a39b2",
   "metadata": {
    "vscode": {
     "languageId": "java"
    }
   },
   "outputs": [
    {
     "name": "stdout",
     "output_type": "stream",
     "text": [
      "{1=10, 2=20, 3=30, 4=40}\n"
     ]
    }
   ],
   "source": [
    "int[][] dictionary_matrix = {{1, 2, 3, 4}, {10, 20, 30, 40}};\n",
    "HashMapAdapter hma = new HashMapAdapter(dictionary_matrix);\n",
    "System.out.println(hma);"
   ]
  },
  {
   "cell_type": "markdown",
   "id": "bc8dd00d-0d90-4dc0-a336-7652777f20c8",
   "metadata": {},
   "source": [
    "## Exercício 1.2"
   ]
  },
  {
   "cell_type": "markdown",
   "id": "1f98e499-be5e-4570-ab22-d107db369732",
   "metadata": {},
   "source": [
    "Código extraído da atividade:"
   ]
  },
  {
   "cell_type": "code",
   "execution_count": 40,
   "id": "a4bebb9b-4e89-483f-ad55-ade034c9f6de",
   "metadata": {
    "vscode": {
     "languageId": "java"
    }
   },
   "outputs": [],
   "source": [
    "public interface SomadorEsperado {\n",
    "    int somaVetor(int[] vetor);\n",
    "}"
   ]
  },
  {
   "cell_type": "code",
   "execution_count": 41,
   "id": "a1be1f35-5e54-4d7a-85ba-4f8409bade04",
   "metadata": {
    "vscode": {
     "languageId": "java"
    }
   },
   "outputs": [],
   "source": [
    "import java.util.List;\n",
    "\n",
    "public class SomadorExistente {\n",
    "    public int somaLista(List<Integer> lista) {\n",
    "        int resultado = 0;\n",
    "        for (int i : lista) resultado += i;\n",
    "        return resultado;\n",
    "    }\n",
    "}"
   ]
  },
  {
   "cell_type": "code",
   "execution_count": 42,
   "id": "6773d1f6-856f-4ae3-a3fe-7b4d1639cf7d",
   "metadata": {
    "vscode": {
     "languageId": "java"
    }
   },
   "outputs": [],
   "source": [
    "public class Cliente {\n",
    "\n",
    "    private SomadorEsperado somador;\n",
    "\n",
    "    public Cliente(SomadorEsperado somador) {\n",
    "        this.somador = somador;\n",
    "    }\n",
    "\n",
    "    public void executar() {\n",
    "        int[] vetor = new int[] {1, 2, 3, 4, 5, 6, 7, 8, 9, 10};\n",
    "        int soma = somador.somaVetor(vetor);\n",
    "        System.out.println(\"Resultado: \" + soma);\n",
    "    }\n",
    "}"
   ]
  },
  {
   "cell_type": "markdown",
   "id": "7aa684c1-7a2f-45db-ab22-2c8cded2ea59",
   "metadata": {},
   "source": [
    "Implementação de um Adapter para somar vetores de inteiros:"
   ]
  },
  {
   "cell_type": "code",
   "execution_count": 43,
   "id": "648a83e0-3822-4f2f-ada3-d9f49a96df3e",
   "metadata": {
    "vscode": {
     "languageId": "java"
    }
   },
   "outputs": [],
   "source": [
    "public class Somador implements SomadorEsperado {\n",
    "    public int somaVetor(int[] vetor) {\n",
    "        int sum = 0;\n",
    "        for (int i : vetor)\n",
    "            sum += i;\n",
    "        return sum;\n",
    "    }\n",
    "}"
   ]
  },
  {
   "cell_type": "markdown",
   "id": "456249fb-b344-4e57-91f3-6b7b27c99df9",
   "metadata": {},
   "source": [
    "O Adapter de objeto acima é classificado como tal por conta de seu padrão de funcionamento:\n",
    " - Uma interface é implementada por meio de uma classe;\n",
    " - A classe Cliente requer uma implementação de \"soma\" por um meio específico, nesse caso, passar por um vetor e receber sua soma;\n",
    " - O adaptador se torna o intermédio entre as interações por apresentar uma implementação que satisfaz Cliente;\n",
    " - A classe Cliente não é modificada durante o processo, de forma que adaptadores são independentes do funcionamento do código."
   ]
  },
  {
   "cell_type": "markdown",
   "id": "5372ccef-de0a-42e2-87a9-77b51005d530",
   "metadata": {},
   "source": [
    "Uma _main_ é implementada para testar a funcionalidade:"
   ]
  },
  {
   "cell_type": "code",
   "execution_count": 44,
   "id": "eb7413c8-4f81-4576-836f-87fce141bf65",
   "metadata": {
    "vscode": {
     "languageId": "java"
    }
   },
   "outputs": [
    {
     "name": "stdout",
     "output_type": "stream",
     "text": [
      "Resultado: 55\n"
     ]
    }
   ],
   "source": [
    "Cliente cliente = new Cliente(new Somador());\n",
    "\n",
    "cliente.executar();"
   ]
  },
  {
   "cell_type": "markdown",
   "id": "94e5a7ee-d165-4b3d-b861-1d117796aa40",
   "metadata": {},
   "source": [
    "# Template Methods\n",
    "\n",
    "1. [O que é o Template Method?](#O-que-é-o-Template-Method?)\n",
    "2. [Quando usar o Template Method?](#Quando-usar-o-Template-Method?)\n",
    "3. [Exercício 4.1](#Exercício-4.1)\n",
    "   1. [Imports](#Imports)\n",
    "   2. [Classe Abstrata](#Classe-Abstrata-que-abriga-o-Template-Method)\n",
    "   3. [Classes Concretas](#Classes-Concretas)\n",
    "   4. [Execução](#Execução)\n",
    "      1. [Maiúsculo](#Maiúsculo)\n",
    "      2. [Minúsculo](#Minúsculo)\n",
    "      3. [Duplicada](#Duplicada)\n",
    "      4. [Invertida](#Invertida)\n",
    "4. [Exercício 4.2](#Exercício-4.2)\n",
    "   1. [Comparators e Template Method](#Porque-Comparators-são-considerados-uma-variação-do-Template-Method?)\n",
    "   2. [Imports](#Imports-4.2)\n",
    "   3. [Classe Comparadora](#Classe-Comparadora)\n",
    "   4. [Execução](#Execução-4.2)"
   ]
  },
  {
   "cell_type": "markdown",
   "id": "4b1f1efa-7e07-41a0-b211-81a68e763f79",
   "metadata": {},
   "source": [
    "## O que é o Template Method?\n",
    "\n",
    "Template Method é um padrão de projeto de categoria comportamental. Sua principal caracteristica é a definição de métodos abstratos em superclasses, enquanto suas subclasses são responsáveis pela implementação desses métodos, adequando-o à sua necessidade. Em outras palavras, prepara um esqueleto que cabe às subclasses completar. "
   ]
  },
  {
   "cell_type": "markdown",
   "id": "fc129520-f58e-460a-98c3-400d2bbab30a",
   "metadata": {},
   "source": [
    "## Quando usar o Template Method?\n",
    "\n",
    "É utilizado quando se tem duas ou mais classes diferentes com métodos muito parecidos, porém não há uma implementação comum para elas.\n",
    "\n",
    "O [Exercício 4.1](#Exercício-4.1) pode ser usado para ilustrar a utilização:\n",
    "\n",
    "* Todas as classes concretas tem o mesmo comportamento: Ler a String do console e transforma-la na formatação desejada. Com o template method podemos implementar o algoritmo base (Ler e transofrmar a String) na classe abstrata e se procupar com os detalhes (Qual a formatação) nas classes concretas."
   ]
  },
  {
   "cell_type": "markdown",
   "id": "1f4cb5ce-08dd-4520-8642-eb5c573d605b",
   "metadata": {
    "jp-MarkdownHeadingCollapsed": true
   },
   "source": [
    "## Exercício 4.1\n",
    "\n",
    "Exercite o padrão Template Method criando uma classe abstrata que lê uma String do console, transforma-a e imprime-a transformada. \n",
    "\n",
    "Implemente quatro subclasse:\n",
    "\n",
    "- uma que transforme a string toda em [maiúsculo](#Maiúsculo)\n",
    "- outra que transforme em tudo [minúsculo](#Minúsculo)\n",
    "- uma que [duplicar](#Duplicada) a string\n",
    "- e a última que [inverta](#Invertida)\n"
   ]
  },
  {
   "cell_type": "markdown",
   "id": "31fbaa04-d1ae-4ffb-8611-c5237e5357db",
   "metadata": {},
   "source": [
    "### Imports"
   ]
  },
  {
   "cell_type": "code",
   "execution_count": 15,
   "id": "f31f92d3-2ac7-41a1-b983-f2e2daf00d38",
   "metadata": {
    "vscode": {
     "languageId": "java"
    }
   },
   "outputs": [],
   "source": [
    "import java.util.Scanner;"
   ]
  },
  {
   "cell_type": "markdown",
   "id": "c193e733-d911-42cf-8397-275f29677d85",
   "metadata": {},
   "source": [
    "### Classe Abstrata que abriga o Template Method"
   ]
  },
  {
   "cell_type": "code",
   "execution_count": 16,
   "id": "a9664f97-57aa-47d4-b05e-286696106685",
   "metadata": {
    "vscode": {
     "languageId": "java"
    }
   },
   "outputs": [],
   "source": [
    "public abstract class TemplateString {\n",
    "\n",
    "\n",
    "    // Template Method - Realiza o algoritmo comum entre as subclasses.\n",
    "    public final String parseString() {\n",
    "        String input = readConsole();\n",
    "\n",
    "        // O método String parser terá implementações diferentes a depender de sua classe.\n",
    "\t\treturn this.stringParser(input);\n",
    "\t}\n",
    "\n",
    "\n",
    "    // Metodo comum a todas as subclasses.\n",
    "    private final String readConsole(){\n",
    "        // Definindo o scanner para leitura de dados no terminal.\n",
    "        Scanner leitura = new Scanner(System.in);\n",
    "        // A String é lida no console e armazenada.\n",
    "        String s = leitura.nextLine();\n",
    "\n",
    "        return s;\n",
    "        \n",
    "    }\n",
    "\n",
    "\n",
    "    // Metodo a ser implementado por uma subclasse.\n",
    "    public abstract String stringParser(String s);\n",
    "    \n",
    "}"
   ]
  },
  {
   "cell_type": "markdown",
   "id": "5bc3e677-dcce-41b6-8f56-cb0991a6d43f",
   "metadata": {},
   "source": [
    "### Classes Concretas"
   ]
  },
  {
   "cell_type": "code",
   "execution_count": 17,
   "id": "d1e4a8a9-683b-4050-b443-8a7e942eb412",
   "metadata": {
    "vscode": {
     "languageId": "java"
    }
   },
   "outputs": [],
   "source": [
    "public class UpperCaseString extends TemplateString{\n",
    "\n",
    "    // Implementação do método abstrato para deixar a String em caixa alta\n",
    "    \n",
    "    @Override\n",
    "    public String stringParser(String s) {\n",
    "        return s.toUpperCase();\n",
    "    }\n",
    "    \n",
    "}"
   ]
  },
  {
   "cell_type": "code",
   "execution_count": 18,
   "id": "c5a7d790-b3d5-4d1e-ad1f-e37201149df2",
   "metadata": {
    "vscode": {
     "languageId": "java"
    }
   },
   "outputs": [],
   "source": [
    "public class LowerCaseString extends TemplateString{\n",
    "\n",
    "    // Implementação do método abstrato para deixar a String em caixa baixa.\n",
    "\n",
    "    @Override\n",
    "    public String stringParser(String s) {\n",
    "        return s.toLowerCase();\n",
    "    }\n",
    "    \n",
    "}"
   ]
  },
  {
   "cell_type": "code",
   "execution_count": 19,
   "id": "1def274f-88a0-490d-9e1b-04e8e7cbcfd4",
   "metadata": {
    "vscode": {
     "languageId": "java"
    }
   },
   "outputs": [],
   "source": [
    "public class DuplicatedString extends TemplateString{\n",
    "\n",
    "\n",
    "    // Implementação do método abstrato para duplicar a String\n",
    "\n",
    "    @Override\n",
    "    public String stringParser(String s) {\n",
    "       return s.repeat(2);\n",
    "    }\n",
    "    \n",
    "}"
   ]
  },
  {
   "cell_type": "code",
   "execution_count": 20,
   "id": "542ca049-baa0-4bee-94b2-8068dc7d662e",
   "metadata": {
    "vscode": {
     "languageId": "java"
    }
   },
   "outputs": [],
   "source": [
    "public class InverseString extends TemplateString{\n",
    "\n",
    "    // Implementação do método abstrato para inverter a String.\n",
    "\n",
    "    @Override\n",
    "    public String stringParser(String s) {\n",
    "        StringBuffer stringBuffer = new StringBuffer(s);\n",
    "        stringBuffer.reverse();\n",
    "        return stringBuffer.toString();\n",
    "    }\n",
    "    \n",
    "}"
   ]
  },
  {
   "cell_type": "markdown",
   "id": "7ebbf5da-cc08-407a-98e0-2909e4745384",
   "metadata": {},
   "source": [
    "### Execução\n",
    "\n",
    "Primeiro são instanciadas as classes concretas"
   ]
  },
  {
   "cell_type": "code",
   "execution_count": 21,
   "id": "8081371e-129e-4887-9b28-572c4dbf3b91",
   "metadata": {
    "vscode": {
     "languageId": "java"
    }
   },
   "outputs": [],
   "source": [
    "UpperCaseString upp = new UpperCaseString();\n",
    "LowerCaseString low = new LowerCaseString();\n",
    "DuplicatedString ds = new DuplicatedString();\n",
    "InverseString inv = new InverseString();"
   ]
  },
  {
   "cell_type": "markdown",
   "id": "5e0973b9-e39e-4a63-a353-e001bc23d5cd",
   "metadata": {},
   "source": [
    "Em seguida são printadas as saidas esperadas - As strings alteradas de acordo com sua classe concreta"
   ]
  },
  {
   "cell_type": "markdown",
   "id": "9cda9915-5d77-4be4-a049-75acf91d5ca9",
   "metadata": {},
   "source": [
    "#### Maiúsculo"
   ]
  },
  {
   "cell_type": "code",
   "execution_count": null,
   "id": "c2f1675d-87ae-462c-9661-454825e36463",
   "metadata": {
    "vscode": {
     "languageId": "java"
    }
   },
   "outputs": [],
   "source": [
    "upp.parseString();"
   ]
  },
  {
   "cell_type": "markdown",
   "id": "e1d98c8d-f8b7-480e-9a93-89155bbdd890",
   "metadata": {},
   "source": [
    "#### Minúsculo"
   ]
  },
  {
   "cell_type": "code",
   "execution_count": null,
   "id": "e035c0f3-dd85-4a94-b324-a3850e3eb1a0",
   "metadata": {
    "vscode": {
     "languageId": "java"
    }
   },
   "outputs": [],
   "source": [
    "low.parseString();"
   ]
  },
  {
   "cell_type": "markdown",
   "id": "67032570-91b5-42eb-be95-14705cd9b718",
   "metadata": {},
   "source": [
    "#### Duplicada"
   ]
  },
  {
   "cell_type": "code",
   "execution_count": null,
   "id": "04e30dc2-7b12-4b2b-8af1-7652ec1eaefe",
   "metadata": {
    "vscode": {
     "languageId": "java"
    }
   },
   "outputs": [],
   "source": [
    "ds.parseString();"
   ]
  },
  {
   "cell_type": "markdown",
   "id": "b11d1b0a-d228-458d-b786-d935b0c13014",
   "metadata": {},
   "source": [
    "#### Invertida"
   ]
  },
  {
   "cell_type": "code",
   "execution_count": null,
   "id": "d88b50da-3a61-40ee-ab4e-e732e5ecd968",
   "metadata": {
    "vscode": {
     "languageId": "java"
    }
   },
   "outputs": [],
   "source": [
    "inv.parseString();"
   ]
  },
  {
   "cell_type": "markdown",
   "id": "4acc78bd-514c-4eb4-97b0-9a162930977a",
   "metadata": {
    "jp-MarkdownHeadingCollapsed": true
   },
   "source": [
    "## Exercício 4.2\n",
    "\n",
    "**Enunciado**:\n",
    "\n",
    "Os Comparators de Java podem ser considerados uma variação do Template Method, apesar de não serem\n",
    "feitos via herança. Monte um vetor de doubles e escreva um comparator que compare os números de\n",
    "ponto-flutuante pelo valor decimal (desconsidere o valor antes da vírgula). Em seguida, use Arrays.sort()\n",
    "para ordenar o vetor e Arrays.toString() para imprimi-la."
   ]
  },
  {
   "cell_type": "markdown",
   "id": "d59d4df6-d967-4dc2-9aa7-7da9775f47e2",
   "metadata": {},
   "source": [
    "### Porque Comparators podem ser considerados uma variação do Template Method?\n",
    "\n",
    "Essa *comparação* é feita devido a sua implementação ser próxima do [padrão Strategy](https://refactoring.guru/pt-br/design-patterns/strategy). O padrão Strategy é muito parecido com o Template Method, mas se diferenciam por conta do Strategy ser implementada por meio de interfaces enquanto o Template Method utiliza heranças. "
   ]
  },
  {
   "cell_type": "markdown",
   "id": "ab552de6-9b96-4139-98db-71d863ce9cd9",
   "metadata": {},
   "source": [
    "<a id=\"Imports-4.2\"></a>\n",
    "### Imports"
   ]
  },
  {
   "cell_type": "code",
   "execution_count": null,
   "id": "2b094442-004a-4520-a622-333677c05f89",
   "metadata": {
    "vscode": {
     "languageId": "java"
    }
   },
   "outputs": [],
   "source": [
    "import java.util.Comparator;"
   ]
  },
  {
   "cell_type": "markdown",
   "id": "7637ab75-75b0-4344-802b-b9f5ce44043a",
   "metadata": {},
   "source": [
    "### Classe Comparadora"
   ]
  },
  {
   "cell_type": "code",
   "execution_count": null,
   "id": "98724bde-d064-4f57-a3e4-52cd727017f8",
   "metadata": {
    "vscode": {
     "languageId": "java"
    }
   },
   "outputs": [],
   "source": [
    "public class DecimalComparator implements Comparator<Double> {\n",
    "\n",
    "    @Override\n",
    "    public int compare(Double n1, Double n2) {\n",
    "\n",
    "        /*\n",
    "            Armazena o valor apenas da parte decimal:\n",
    "\n",
    "            Sendo N um numero inteiro e K sua parte decimal, tal que N.K seja um Número Real \n",
    "\n",
    "            -> K = N.K - N\n",
    "\n",
    "        */ \n",
    "        \n",
    "        double decimalPartN1 = n1 - Math.floor(n1);\n",
    "        double decimalPartN2 = n2 - Math.floor(n2);\n",
    "\n",
    "        // Operador ternario para realizar a checagem: Leia-se (Condição) ? (expr1 caso True) : (expr2 caso False)\n",
    "        return (decimalPartN1 < decimalPartN2) ? -1 \n",
    "        : (decimalPartN1 > decimalPartN2) ? 1 \n",
    "        : 0;\n",
    "    }\n",
    "    \n",
    "}"
   ]
  },
  {
   "cell_type": "markdown",
   "id": "65b1a7bd-8551-48cf-a6d0-2df8576072a8",
   "metadata": {},
   "source": [
    "<a id=\"Execução-4.2\"></a>\n",
    "### Execução\n",
    "\n",
    "O Array de Double é instanciado e preenchido com pontos flutuantes aleatorios ditados pela seed. Em seguida o array é ordenado utilizando o comparador DecimalComparator, por ultimo o vetor é impresso em ordem crescente"
   ]
  },
  {
   "cell_type": "code",
   "execution_count": null,
   "id": "dadafcfe-4cfc-43cf-bdc5-4db0f088619b",
   "metadata": {
    "vscode": {
     "languageId": "java"
    }
   },
   "outputs": [],
   "source": [
    "// Instancia do Array de Double de tamanho 10, inicia vazio\n",
    "Double[] doubleArray = new Double[10];\n",
    "\n",
    "/*\n",
    "* A seed é usada para manter consitencia entre multiplas execuções. \n",
    "* Uma mesma seed sempre vai gerar os mesmos valores\n",
    "*/ \n",
    "Long seed = 1080765L;\n",
    "\n",
    "// Gerador dos numeros aleatorios\n",
    "Random generator = new Random(seed);\n",
    "\n",
    "\n",
    "// Valor minimo que qualquer Double gerado pelo 'generator' pode assumir\n",
    "final double minValue = 1;\n",
    "\n",
    "\n",
    "//Valor máximo que qualquer Double gerado pelo 'generator' pode assumir\n",
    "final double maxValue = 9999;\n",
    "        \n",
    "\n",
    "// São adicionados 10 numeros aleatorios\n",
    "for(int i = 0; i < doubleArray.length; i++){\n",
    "    doubleArray[i] = generator.nextDouble(maxValue - minValue) + minValue;\n",
    "}\n",
    "\n",
    "// É realizado o Sort\n",
    "Arrays.sort(doubleArray, new DecimalComparator());\n",
    "\n",
    "// É realizado o print do vetor ordenado em ordem crescente\n",
    "System.out.println(Arrays.toString(doubleArray));"
   ]
  }
 ],
 "metadata": {
  "kernelspec": {
   "display_name": "Java",
   "language": "java",
   "name": "java"
  },
  "language_info": {
   "codemirror_mode": "java",
   "file_extension": ".jshell",
   "mimetype": "text/x-java-source",
   "name": "Java",
   "pygments_lexer": "java",
   "version": "11.0.14.1+1-LTS"
  },
  "nbdime-conflicts": {
   "local_diff": [
    {
     "diff": [
      {
       "diff": [
        {
         "key": 0,
         "op": "addrange",
         "valuelist": [
          "19.0.2+7-Ubuntu-0ubuntu322.04"
         ]
        },
        {
         "key": 0,
         "length": 1,
         "op": "removerange"
        }
       ],
       "key": "version",
       "op": "patch"
      }
     ],
     "key": "language_info",
     "op": "patch"
    }
   ],
   "remote_diff": [
    {
     "diff": [
      {
       "diff": [
        {
         "key": 0,
         "op": "addrange",
         "valuelist": [
          "19.0.2+7-44"
         ]
        },
        {
         "key": 0,
         "length": 1,
         "op": "removerange"
        }
       ],
       "key": "version",
       "op": "patch"
      }
     ],
     "key": "language_info",
     "op": "patch"
    }
   ]
  }
 },
 "nbformat": 4,
 "nbformat_minor": 5
}
