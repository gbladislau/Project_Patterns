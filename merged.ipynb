{
 "cells": [
  {
   "cell_type": "markdown",
   "metadata": {},
   "source": [
    "# Exercícios sobre Padrões de Projetos"
   ]
  },
  {
   "cell_type": "markdown",
   "metadata": {},
   "source": [
    "Grupo: FitTech\n",
    "\n",
    "Escolhermos fazer os 10 exercícios sobre os seguintes padrões:\n",
    "\n",
    "1. [Adapters](#adapters)\n",
    "2. [Template Method](#template-method)\n",
    "3. [Abstract Factory](#abstract-factory)\n",
    "4. [Factory Method](#factory-method)\n",
    "5. [Decorator](#decorator)"
   ]
  },
  {
   "cell_type": "markdown",
   "id": "8268831c-2071-477a-8889-2ea0305fe36c",
   "metadata": {},
   "source": [
    "# Adapters"
   ]
  },
  {
   "cell_type": "markdown",
   "id": "32982d0a-2b7a-4d23-a16c-51656c308a34",
   "metadata": {},
   "source": [
    "## Exercício 1.1"
   ]
  },
  {
   "cell_type": "markdown",
   "id": "bf242a32-9491-45d0-b814-e425c690030e",
   "metadata": {},
   "source": [
    "A implementação de um adapter de classe aqui se deve ao fato de que precisamos determinar um novo construtor para a classe de forma independente ao código original.\n",
    "Com isso, não precisamos construir uma HashMap e depois montar ela por meio de uma função, mas sim, chamar um adaptador que lida com os tipos de dados fornecidos."
   ]
  },
  {
   "cell_type": "code",
   "execution_count": 38,
   "id": "f83e9165-4275-4b94-bff6-2174e2153c11",
   "metadata": {
    "vscode": {
     "languageId": "java"
    }
   },
   "outputs": [],
   "source": [
    "import java.util.HashMap;\n",
    "\n",
    "public class HashMapAdapter extends HashMap {\n",
    "    public HashMapAdapter(int[][] key_value_matrix) {\n",
    "        for (int i = 0; i < key_value_matrix[0].length; i++)\n",
    "            this.put(key_value_matrix[0][i], key_value_matrix[1][i]);\n",
    "    }\n",
    "}"
   ]
  },
  {
   "cell_type": "code",
   "execution_count": 39,
   "id": "2f8b69e7-e1c7-4ba8-bd70-44bbb69a39b2",
   "metadata": {
    "vscode": {
     "languageId": "java"
    }
   },
   "outputs": [
    {
     "name": "stdout",
     "output_type": "stream",
     "text": [
      "{1=10, 2=20, 3=30, 4=40}\n"
     ]
    }
   ],
   "source": [
    "int[][] dictionary_matrix = {{1, 2, 3, 4}, {10, 20, 30, 40}};\n",
    "HashMapAdapter hma = new HashMapAdapter(dictionary_matrix);\n",
    "System.out.println(hma);"
   ]
  },
  {
   "cell_type": "markdown",
   "id": "bc8dd00d-0d90-4dc0-a336-7652777f20c8",
   "metadata": {},
   "source": [
    "## Exercício 1.2"
   ]
  },
  {
   "cell_type": "markdown",
   "id": "1f98e499-be5e-4570-ab22-d107db369732",
   "metadata": {},
   "source": [
    "Código extraído da atividade:"
   ]
  },
  {
   "cell_type": "code",
   "execution_count": 40,
   "id": "a4bebb9b-4e89-483f-ad55-ade034c9f6de",
   "metadata": {
    "vscode": {
     "languageId": "java"
    }
   },
   "outputs": [],
   "source": [
    "public interface SomadorEsperado {\n",
    "    int somaVetor(int[] vetor);\n",
    "}"
   ]
  },
  {
   "cell_type": "code",
   "execution_count": 41,
   "id": "a1be1f35-5e54-4d7a-85ba-4f8409bade04",
   "metadata": {
    "vscode": {
     "languageId": "java"
    }
   },
   "outputs": [],
   "source": [
    "import java.util.List;\n",
    "\n",
    "public class SomadorExistente {\n",
    "    public int somaLista(List<Integer> lista) {\n",
    "        int resultado = 0;\n",
    "        for (int i : lista) resultado += i;\n",
    "        return resultado;\n",
    "    }\n",
    "}"
   ]
  },
  {
   "cell_type": "code",
   "execution_count": 42,
   "id": "6773d1f6-856f-4ae3-a3fe-7b4d1639cf7d",
   "metadata": {
    "vscode": {
     "languageId": "java"
    }
   },
   "outputs": [],
   "source": [
    "public class Cliente {\n",
    "\n",
    "    private SomadorEsperado somador;\n",
    "\n",
    "    public Cliente(SomadorEsperado somador) {\n",
    "        this.somador = somador;\n",
    "    }\n",
    "\n",
    "    public void executar() {\n",
    "        int[] vetor = new int[] {1, 2, 3, 4, 5, 6, 7, 8, 9, 10};\n",
    "        int soma = somador.somaVetor(vetor);\n",
    "        System.out.println(\"Resultado: \" + soma);\n",
    "    }\n",
    "}"
   ]
  },
  {
   "cell_type": "markdown",
   "id": "7aa684c1-7a2f-45db-ab22-2c8cded2ea59",
   "metadata": {},
   "source": [
    "Implementação de um Adapter para somar vetores de inteiros:"
   ]
  },
  {
   "cell_type": "code",
   "execution_count": 43,
   "id": "648a83e0-3822-4f2f-ada3-d9f49a96df3e",
   "metadata": {
    "vscode": {
     "languageId": "java"
    }
   },
   "outputs": [],
   "source": [
    "public class Somador implements SomadorEsperado {\n",
    "    public int somaVetor(int[] vetor) {\n",
    "        int sum = 0;\n",
    "        for (int i : vetor)\n",
    "            sum += i;\n",
    "        return sum;\n",
    "    }\n",
    "}"
   ]
  },
  {
   "cell_type": "markdown",
   "id": "456249fb-b344-4e57-91f3-6b7b27c99df9",
   "metadata": {},
   "source": [
    "O Adapter de objeto acima é classificado como tal por conta de seu padrão de funcionamento:\n",
    " - Uma interface é implementada por meio de uma classe;\n",
    " - A classe Cliente requer uma implementação de \"soma\" por um meio específico, nesse caso, passar por um vetor e receber sua soma;\n",
    " - O adaptador se torna o intermédio entre as interações por apresentar uma implementação que satisfaz Cliente;\n",
    " - A classe Cliente não é modificada durante o processo, de forma que adaptadores são independentes do funcionamento do código."
   ]
  },
  {
   "cell_type": "markdown",
   "id": "5372ccef-de0a-42e2-87a9-77b51005d530",
   "metadata": {},
   "source": [
    "Uma _main_ é implementada para testar a funcionalidade:"
   ]
  },
  {
   "cell_type": "code",
   "execution_count": 44,
   "id": "eb7413c8-4f81-4576-836f-87fce141bf65",
   "metadata": {
    "vscode": {
     "languageId": "java"
    }
   },
   "outputs": [
    {
     "name": "stdout",
     "output_type": "stream",
     "text": [
      "Resultado: 55\n"
     ]
    }
   ],
   "source": [
    "Cliente cliente = new Cliente(new Somador());\n",
    "\n",
    "cliente.executar();"
   ]
  },
  {
   "cell_type": "markdown",
   "id": "94e5a7ee-d165-4b3d-b861-1d117796aa40",
   "metadata": {},
   "source": [
    "# Template Method"
   ]
  },
  {
   "cell_type": "markdown",
   "metadata": {},
   "source": [
    "## Sumário\n",
    "\n",
    "1. [O que é o Template Method?](#O-que-é-o-Template-Method?)\n",
    "2. [Quando usar o Template Method?](#Quando-usar-o-Template-Method?)\n",
    "3. [Exercício 4.1](#Exercício-4.1)\n",
    "   1. [Imports](#Imports)\n",
    "   2. [Classe Abstrata](#Classe-Abstrata-que-abriga-o-Template-Method)\n",
    "   3. [Classes Concretas](#Classes-Concretas)\n",
    "   4. [Execução](#Execução)\n",
    "      1. [Maiúsculo](#Maiúsculo)\n",
    "      2. [Minúsculo](#Minúsculo)\n",
    "      3. [Duplicada](#Duplicada)\n",
    "      4. [Invertida](#Invertida)\n",
    "4. [Exercício 4.2](#Exercício-4.2)\n",
    "   1. [Comparators e Template Method](#Porque-Comparators-são-considerados-uma-variação-do-Template-Method?)\n",
    "   2. [Imports](#Imports-4.2)\n",
    "   3. [Classe Comparadora](#Classe-Comparadora)\n",
    "   4. [Execução](#Execução-4.2)"
   ]
  },
  {
   "cell_type": "markdown",
   "id": "4b1f1efa-7e07-41a0-b211-81a68e763f79",
   "metadata": {},
   "source": [
    "## O que é o Template Method?\n",
    "\n",
    "Template Method é um padrão de projeto de categoria comportamental. Sua principal caracteristica é a definição de métodos abstratos em superclasses, enquanto suas subclasses são responsáveis pela implementação desses métodos, adequando-o à sua necessidade. Em outras palavras, prepara um esqueleto que cabe às subclasses completar. "
   ]
  },
  {
   "cell_type": "markdown",
   "id": "fc129520-f58e-460a-98c3-400d2bbab30a",
   "metadata": {},
   "source": [
    "## Quando usar o Template Method?\n",
    "\n",
    "É utilizado quando se tem duas ou mais classes diferentes com métodos muito parecidos, porém não há uma implementação comum para elas.\n",
    "\n",
    "O [Exercício 4.1](#Exercício-4.1) pode ser usado para ilustrar a utilização:\n",
    "\n",
    "* Todas as classes concretas tem o mesmo comportamento: Ler a String do console e transforma-la na formatação desejada. Com o template method podemos implementar o algoritmo base (Ler e transofrmar a String) na classe abstrata e se procupar com os detalhes (Qual a formatação) nas classes concretas."
   ]
  },
  {
   "cell_type": "markdown",
   "id": "1f4cb5ce-08dd-4520-8642-eb5c573d605b",
   "metadata": {
    "jp-MarkdownHeadingCollapsed": true
   },
   "source": [
    "## Exercício 4.1\n",
    "\n",
    "Exercite o padrão Template Method criando uma classe abstrata que lê uma String do console, transforma-a e imprime-a transformada. \n",
    "\n",
    "Implemente quatro subclasse:\n",
    "\n",
    "- uma que transforme a string toda em [maiúsculo](#Maiúsculo)\n",
    "- outra que transforme em tudo [minúsculo](#Minúsculo)\n",
    "- uma que [duplicar](#Duplicada) a string\n",
    "- e a última que [inverta](#Invertida)\n"
   ]
  },
  {
   "cell_type": "markdown",
   "id": "31fbaa04-d1ae-4ffb-8611-c5237e5357db",
   "metadata": {},
   "source": [
    "### Imports"
   ]
  },
  {
   "cell_type": "code",
   "execution_count": 1,
   "id": "f31f92d3-2ac7-41a1-b983-f2e2daf00d38",
   "metadata": {
    "vscode": {
     "languageId": "java"
    }
   },
   "outputs": [],
   "source": [
    "import java.util.Scanner;"
   ]
  },
  {
   "cell_type": "markdown",
   "id": "c193e733-d911-42cf-8397-275f29677d85",
   "metadata": {},
   "source": [
    "### Classe Abstrata que abriga o Template Method"
   ]
  },
  {
   "cell_type": "code",
   "execution_count": 2,
   "id": "a9664f97-57aa-47d4-b05e-286696106685",
   "metadata": {
    "vscode": {
     "languageId": "java"
    }
   },
   "outputs": [],
   "source": [
    "public abstract class TemplateString {\n",
    "\n",
    "\n",
    "    // Template Method - Realiza o algoritmo comum entre as subclasses.\n",
    "    public final String parseString() {\n",
    "        String input = readConsole();\n",
    "\n",
    "        // O método String parser terá implementações diferentes a depender de sua classe.\n",
    "\t\treturn this.stringParser(input);\n",
    "\t}\n",
    "\n",
    "\n",
    "    // Metodo comum a todas as subclasses.\n",
    "    private final String readConsole(){\n",
    "        // Definindo o scanner para leitura de dados no terminal.\n",
    "        Scanner leitura = new Scanner(System.in);\n",
    "        // A String é lida no console e armazenada.\n",
    "        String s = leitura.nextLine();\n",
    "\n",
    "        return s;\n",
    "        \n",
    "    }\n",
    "\n",
    "\n",
    "    // Metodo a ser implementado por uma subclasse.\n",
    "    public abstract String stringParser(String s);\n",
    "    \n",
    "}"
   ]
  },
  {
   "cell_type": "markdown",
   "id": "5bc3e677-dcce-41b6-8f56-cb0991a6d43f",
   "metadata": {},
   "source": [
    "### Classes Concretas"
   ]
  },
  {
   "cell_type": "code",
   "execution_count": 3,
   "id": "d1e4a8a9-683b-4050-b443-8a7e942eb412",
   "metadata": {
    "vscode": {
     "languageId": "java"
    }
   },
   "outputs": [],
   "source": [
    "public class UpperCaseString extends TemplateString{\n",
    "\n",
    "    // Implementação do método abstrato para deixar a String em caixa alta\n",
    "    \n",
    "    @Override\n",
    "    public String stringParser(String s) {\n",
    "        return s.toUpperCase();\n",
    "    }\n",
    "    \n",
    "}"
   ]
  },
  {
   "cell_type": "code",
   "execution_count": 4,
   "id": "c5a7d790-b3d5-4d1e-ad1f-e37201149df2",
   "metadata": {
    "vscode": {
     "languageId": "java"
    }
   },
   "outputs": [],
   "source": [
    "public class LowerCaseString extends TemplateString{\n",
    "\n",
    "    // Implementação do método abstrato para deixar a String em caixa baixa.\n",
    "\n",
    "    @Override\n",
    "    public String stringParser(String s) {\n",
    "        return s.toLowerCase();\n",
    "    }\n",
    "    \n",
    "}"
   ]
  },
  {
   "cell_type": "code",
   "execution_count": 5,
   "id": "1def274f-88a0-490d-9e1b-04e8e7cbcfd4",
   "metadata": {
    "vscode": {
     "languageId": "java"
    }
   },
   "outputs": [],
   "source": [
    "public class DuplicatedString extends TemplateString{\n",
    "\n",
    "\n",
    "    // Implementação do método abstrato para duplicar a String\n",
    "\n",
    "    @Override\n",
    "    public String stringParser(String s) {\n",
    "       return s.repeat(2);\n",
    "    }\n",
    "    \n",
    "}"
   ]
  },
  {
   "cell_type": "code",
   "execution_count": 9,
   "id": "542ca049-baa0-4bee-94b2-8068dc7d662e",
   "metadata": {
    "vscode": {
     "languageId": "java"
    }
   },
   "outputs": [],
   "source": [
    "public class InverseString extends TemplateString{\n",
    "\n",
    "    // Implementação do método abstrato para inverter a String.\n",
    "\n",
    "    @Override\n",
    "    public String stringParser(String s) {\n",
    "        StringBuffer stringBuffer = new StringBuffer(s);\n",
    "        stringBuffer.reverse();\n",
    "        return stringBuffer.toString();\n",
    "    }\n",
    "    \n",
    "}"
   ]
  },
  {
   "cell_type": "markdown",
   "id": "7ebbf5da-cc08-407a-98e0-2909e4745384",
   "metadata": {},
   "source": [
    "### Execução\n",
    "\n",
    "Primeiro são instanciadas as classes concretas"
   ]
  },
  {
   "cell_type": "code",
   "execution_count": 10,
   "id": "8081371e-129e-4887-9b28-572c4dbf3b91",
   "metadata": {
    "vscode": {
     "languageId": "java"
    }
   },
   "outputs": [],
   "source": [
    "UpperCaseString upp = new UpperCaseString();\n",
    "LowerCaseString low = new LowerCaseString();\n",
    "DuplicatedString ds = new DuplicatedString();\n",
    "InverseString inv = new InverseString();"
   ]
  },
  {
   "cell_type": "markdown",
   "id": "5e0973b9-e39e-4a63-a353-e001bc23d5cd",
   "metadata": {},
   "source": [
    "Em seguida são printadas as saidas esperadas - As strings alteradas de acordo com sua classe concreta"
   ]
  },
  {
   "cell_type": "markdown",
   "id": "9cda9915-5d77-4be4-a049-75acf91d5ca9",
   "metadata": {},
   "source": [
    "#### Maiúsculo"
   ]
  },
  {
   "cell_type": "code",
   "execution_count": 11,
   "id": "c2f1675d-87ae-462c-9661-454825e36463",
   "metadata": {
    "vscode": {
     "languageId": "java"
    }
   },
   "outputs": [
    {
     "data": {
      "text/plain": [
       "EXEMPLO"
      ]
     },
     "execution_count": 11,
     "metadata": {},
     "output_type": "execute_result"
    }
   ],
   "source": [
    "upp.parseString();"
   ]
  },
  {
   "cell_type": "markdown",
   "id": "e1d98c8d-f8b7-480e-9a93-89155bbdd890",
   "metadata": {},
   "source": [
    "#### Minúsculo"
   ]
  },
  {
   "cell_type": "code",
   "execution_count": 12,
   "id": "e035c0f3-dd85-4a94-b324-a3850e3eb1a0",
   "metadata": {
    "vscode": {
     "languageId": "java"
    }
   },
   "outputs": [
    {
     "data": {
      "text/plain": [
       "exemplo"
      ]
     },
     "execution_count": 12,
     "metadata": {},
     "output_type": "execute_result"
    }
   ],
   "source": [
    "low.parseString();"
   ]
  },
  {
   "cell_type": "markdown",
   "id": "67032570-91b5-42eb-be95-14705cd9b718",
   "metadata": {},
   "source": [
    "#### Duplicada"
   ]
  },
  {
   "cell_type": "code",
   "execution_count": 13,
   "id": "04e30dc2-7b12-4b2b-8af1-7652ec1eaefe",
   "metadata": {
    "vscode": {
     "languageId": "java"
    }
   },
   "outputs": [
    {
     "data": {
      "text/plain": [
       "exemploexemplo"
      ]
     },
     "execution_count": 13,
     "metadata": {},
     "output_type": "execute_result"
    }
   ],
   "source": [
    "ds.parseString();"
   ]
  },
  {
   "cell_type": "markdown",
   "id": "b11d1b0a-d228-458d-b786-d935b0c13014",
   "metadata": {},
   "source": [
    "#### Invertida"
   ]
  },
  {
   "cell_type": "code",
   "execution_count": 14,
   "id": "d88b50da-3a61-40ee-ab4e-e732e5ecd968",
   "metadata": {
    "vscode": {
     "languageId": "java"
    }
   },
   "outputs": [
    {
     "data": {
      "text/plain": [
       "olpmexe"
      ]
     },
     "execution_count": 14,
     "metadata": {},
     "output_type": "execute_result"
    }
   ],
   "source": [
    "inv.parseString();"
   ]
  },
  {
   "cell_type": "markdown",
   "metadata": {},
   "source": [
    "A string passada para os casos acima para gerar as saídas foi \"exemplo\". "
   ]
  },
  {
   "cell_type": "markdown",
   "id": "4acc78bd-514c-4eb4-97b0-9a162930977a",
   "metadata": {
    "jp-MarkdownHeadingCollapsed": true
   },
   "source": [
    "## Exercício 4.2\n",
    "\n",
    "**Enunciado**:\n",
    "\n",
    "Os Comparators de Java podem ser considerados uma variação do Template Method, apesar de não serem\n",
    "feitos via herança. Monte um vetor de doubles e escreva um comparator que compare os números de\n",
    "ponto-flutuante pelo valor decimal (desconsidere o valor antes da vírgula). Em seguida, use Arrays.sort()\n",
    "para ordenar o vetor e Arrays.toString() para imprimi-la."
   ]
  },
  {
   "cell_type": "markdown",
   "id": "d59d4df6-d967-4dc2-9aa7-7da9775f47e2",
   "metadata": {},
   "source": [
    "### Porque Comparators podem ser considerados uma variação do Template Method?\n",
    "\n",
    "Essa *comparação* é feita devido a sua implementação ser próxima do [padrão Strategy](https://refactoring.guru/pt-br/design-patterns/strategy). O padrão Strategy é muito parecido com o Template Method, mas se diferenciam por conta do Strategy ser implementada por meio de interfaces enquanto o Template Method utiliza heranças. "
   ]
  },
  {
   "cell_type": "markdown",
   "id": "ab552de6-9b96-4139-98db-71d863ce9cd9",
   "metadata": {},
   "source": [
    "<a id=\"Imports-4.2\"></a>\n",
    "### Imports"
   ]
  },
  {
   "cell_type": "code",
   "execution_count": 15,
   "id": "2b094442-004a-4520-a622-333677c05f89",
   "metadata": {
    "vscode": {
     "languageId": "java"
    }
   },
   "outputs": [],
   "source": [
    "import java.util.Comparator;"
   ]
  },
  {
   "cell_type": "markdown",
   "id": "7637ab75-75b0-4344-802b-b9f5ce44043a",
   "metadata": {},
   "source": [
    "### Classe Comparadora"
   ]
  },
  {
   "cell_type": "code",
   "execution_count": 16,
   "id": "98724bde-d064-4f57-a3e4-52cd727017f8",
   "metadata": {
    "vscode": {
     "languageId": "java"
    }
   },
   "outputs": [],
   "source": [
    "public class DecimalComparator implements Comparator<Double> {\n",
    "\n",
    "    @Override\n",
    "    public int compare(Double n1, Double n2) {\n",
    "\n",
    "        /*\n",
    "            Armazena o valor apenas da parte decimal:\n",
    "\n",
    "            Sendo N um numero inteiro e K sua parte decimal, tal que N.K seja um Número Real \n",
    "\n",
    "            -> K = N.K - N\n",
    "\n",
    "        */ \n",
    "        \n",
    "        double decimalPartN1 = n1 - Math.floor(n1);\n",
    "        double decimalPartN2 = n2 - Math.floor(n2);\n",
    "\n",
    "        // Operador ternario para realizar a checagem: Leia-se (Condição) ? (expr1 caso True) : (expr2 caso False)\n",
    "        return (decimalPartN1 < decimalPartN2) ? -1 \n",
    "        : (decimalPartN1 > decimalPartN2) ? 1 \n",
    "        : 0;\n",
    "    }\n",
    "    \n",
    "}"
   ]
  },
  {
   "cell_type": "markdown",
   "id": "65b1a7bd-8551-48cf-a6d0-2df8576072a8",
   "metadata": {},
   "source": [
    "<a id=\"Execução-4.2\"></a>\n",
    "### Execução\n",
    "\n",
    "O Array de Double é instanciado e preenchido com pontos flutuantes aleatorios ditados pela seed. Em seguida o array é ordenado utilizando o comparador DecimalComparator, por ultimo o vetor é impresso em ordem crescente por valor decimal"
   ]
  },
  {
   "cell_type": "code",
   "execution_count": 19,
   "id": "dadafcfe-4cfc-43cf-bdc5-4db0f088619b",
   "metadata": {
    "vscode": {
     "languageId": "java"
    }
   },
   "outputs": [
    {
     "name": "stdout",
     "output_type": "stream",
     "text": [
      "[8077.171028909251, 8020.173340978213, 8004.180872573501, 9526.21127606899, 8177.230685187112, 162.46119120511335, 8554.689872973757, 5231.740871477539, 127.83268108805213, 6993.995888581721]\n"
     ]
    }
   ],
   "source": [
    "// Instancia do Array de Double de tamanho 10, inicia vazio\n",
    "Double[] doubleArray = new Double[10];\n",
    "\n",
    "/*\n",
    "* A seed é usada para manter consitencia entre multiplas execuções. \n",
    "* Uma mesma seed sempre vai gerar os mesmos valores\n",
    "*/ \n",
    "Long seed = 1080765L;\n",
    "\n",
    "// Gerador dos numeros aleatorios\n",
    "Random generator = new Random(seed);\n",
    "\n",
    "\n",
    "// Valor minimo que qualquer Double gerado pelo 'generator' pode assumir\n",
    "final double minValue = 1;\n",
    "\n",
    "\n",
    "//Valor máximo que qualquer Double gerado pelo 'generator' pode assumir\n",
    "final double maxValue = 9999;\n",
    "        \n",
    "\n",
    "// São adicionados 10 numeros aleatorios\n",
    "for(int i = 0; i < doubleArray.length; i++){\n",
    "    double randomValue = generator.nextDouble(); // Gera um número entre 0 (inclusive) e 1 (exclusivo)\n",
    "    double scaledValue = randomValue * (maxValue - minValue) + minValue; // Escala para o intervalo desejado\n",
    "    doubleArray[i] = scaledValue;\n",
    "}\n",
    "\n",
    "// É realizado o Sort\n",
    "Arrays.sort(doubleArray, new DecimalComparator());\n",
    "\n",
    "// É realizado o print do vetor ordenado em ordem crescente\n",
    "System.out.println(Arrays.toString(doubleArray));"
   ]
  },
  {
   "cell_type": "markdown",
   "metadata": {},
   "source": [
    "# Abstract Factory"
   ]
  },
  {
   "cell_type": "markdown",
   "metadata": {},
   "source": [
    "## 1.1 Hello"
   ]
  },
  {
   "cell_type": "markdown",
   "metadata": {},
   "source": [
    "Para implementar este padrão de projeto para o problema proposto é necessário estabelecer:\n",
    "\n",
    "* **_Product_**: neste caso a interface _Hello_, que possui o método _helloWord()_ que nas classes concretas é implementado ou no prompt quanto no output.txt; \n",
    "* **_AbstractFactory_**: neste caso seria a interface _AbsHelloFactory_ para representar as factories da interface _Hello_;\n",
    "* **Factories Concretas**: neste caso seriam as classes concretas de _HelloStringFactory_ e _HelloTxtFactory_;\n",
    "* **Products Concretos**: neste caso seriam as classes concretas que implementam _HelloString_ e _HelloTxt_;\n",
    "* **_Client_**: representa o consumidor e é implementado pela classe _Client_;"
   ]
  },
  {
   "cell_type": "code",
   "execution_count": 20,
   "metadata": {
    "vscode": {
     "languageId": "java"
    }
   },
   "outputs": [],
   "source": [
    "import java.io.BufferedWriter;\n",
    "import java.io.FileWriter;\n",
    "import java.io.IOException;\n",
    "import java.util.Random;"
   ]
  },
  {
   "cell_type": "markdown",
   "metadata": {},
   "source": [
    "#### Interfaces para representar o Product e a AbstractFactory"
   ]
  },
  {
   "cell_type": "code",
   "execution_count": 21,
   "metadata": {
    "vscode": {
     "languageId": "java"
    }
   },
   "outputs": [],
   "source": [
    "public interface Hello {\n",
    "    public void helloWorld();\n",
    "}\n",
    "\n",
    "public interface AbsHelloFactory {\n",
    "    public Hello createHello();\n",
    "}"
   ]
  },
  {
   "cell_type": "markdown",
   "metadata": {},
   "source": [
    "#### Classes para implementar as Factories e Products concretos"
   ]
  },
  {
   "cell_type": "code",
   "execution_count": 22,
   "metadata": {
    "vscode": {
     "languageId": "java"
    }
   },
   "outputs": [],
   "source": [
    "public class HelloString implements Hello{\n",
    "    @Override\n",
    "    public void helloWorld() {\n",
    "        System.out.println(\"Hello, World\");\n",
    "    }\n",
    "}\n",
    "\n",
    "public class HelloStringFactory implements AbsHelloFactory{\n",
    "    @Override\n",
    "    public Hello createHello() {\n",
    "        return new HelloString();\n",
    "    }\n",
    "}"
   ]
  },
  {
   "cell_type": "code",
   "execution_count": 23,
   "metadata": {
    "vscode": {
     "languageId": "java"
    }
   },
   "outputs": [],
   "source": [
    "public class HelloTxt implements Hello {\n",
    "    @Override\n",
    "    public void helloWorld() {\n",
    "        try {\n",
    "            String str = \"Hello, World\";\n",
    "            BufferedWriter writer = new BufferedWriter(new FileWriter(\"output.txt\"));\n",
    "            writer.write(str);\n",
    "            writer.close();\n",
    "        } catch (IOException e) {\n",
    "            System.out.println(\"ERRO DE IO\");\n",
    "        }\n",
    "    }\n",
    "\n",
    "}\n",
    "\n",
    "public class HelloTxtFactory implements AbsHelloFactory{\n",
    "    @Override\n",
    "    public Hello createHello() {\n",
    "        return new HelloTxt();\n",
    "    }\n",
    "}\n"
   ]
  },
  {
   "cell_type": "markdown",
   "metadata": {},
   "source": [
    "#### Definindo o _Client_"
   ]
  },
  {
   "cell_type": "code",
   "execution_count": 28,
   "metadata": {
    "vscode": {
     "languageId": "java"
    }
   },
   "outputs": [
    {
     "name": "stdout",
     "output_type": "stream",
     "text": [
      "Hello, World\n"
     ]
    }
   ],
   "source": [
    "public class Client {\n",
    "\n",
    "    public AbsHelloFactory helloFactory;\n",
    "    public Hello hello;\n",
    "\n",
    "    Client(){\n",
    "        Random random = new Random();\n",
    "        if (random.nextBoolean()) {\n",
    "            this.helloFactory = new HelloStringFactory();\n",
    "        }\n",
    "        else{\n",
    "            this.helloFactory = new HelloTxtFactory();\n",
    "        }\n",
    "    }\n",
    "}\n",
    "\n",
    "Client a = new Client();\n",
    "a.hello = a.helloFactory.createHello();\n",
    "\n",
    "a.hello.helloWorld();"
   ]
  },
  {
   "cell_type": "markdown",
   "metadata": {},
   "source": [
    "Vemos que como está implementado o cliente independente de quantas vezes ele chame a criação de um produto novo ele sempre será ou HelloTxt ou HelloString já que sua factory não muda.\n",
    "\n",
    "O padrão Abstract Factory garante para o cliente que ele não necessita de saber qual Hello ele vai receber mas que ele sempre vai gerar um Hello, World no final.\n"
   ]
  },
  {
   "cell_type": "markdown",
   "metadata": {},
   "source": [
    "## 1.2 Pizzaria"
   ]
  },
  {
   "cell_type": "markdown",
   "metadata": {},
   "source": [
    "Para implementar este padrão de projeto para o problema da Pizzaria é necessário estabelecer:\n",
    "\n",
    "* **_Product_**: neste caso a interface _Pizza_ e _Calzone_, que possui o método _imprimeIngredientes()_ que faz oque seu nome indica; \n",
    "* **_AbstractFactory_**: neste caso seria a interface _Pizzaiolo_ para representar as factories das interfaces dos _Products_ _Pizza_ e _Calzone_;\n",
    "* **Factories Concretas**: neste caso seriam as classes concretas de Pizzaiolos Calabresa e Presunto;\n",
    "* **Products Concretos**: neste caso seriam as classes concretas que implementam Pizza e Calzone, PizzaPresunto, PizzaCalabresa, CalzonePresunto e CalzoneCalbresa;\n",
    "* **_Client_**: representa o consumidor e é implementado pela classe ClientPizza;"
   ]
  },
  {
   "cell_type": "markdown",
   "metadata": {},
   "source": [
    "#### Definindo os dois _Products_ na sua forma abstrata"
   ]
  },
  {
   "cell_type": "code",
   "execution_count": 29,
   "metadata": {
    "vscode": {
     "languageId": "java"
    }
   },
   "outputs": [],
   "source": [
    "public interface Pizza {\n",
    "    void imprimeIngredientes();\n",
    "}\n",
    "public interface Calzone {\n",
    "    void imprimeIngredientes();\n",
    "}"
   ]
  },
  {
   "cell_type": "markdown",
   "metadata": {},
   "source": [
    "#### As definições concretas destes _Products_ (Calabresa e presunto)"
   ]
  },
  {
   "cell_type": "code",
   "execution_count": 30,
   "metadata": {
    "vscode": {
     "languageId": "java"
    }
   },
   "outputs": [],
   "source": [
    "public class PizzaCalabresa implements Pizza{\n",
    "    @Override\n",
    "    public void imprimeIngredientes() {\n",
    "        System.out.println(\"Pizza de Calabresa: (queijo + calabresa + tomate)\");\n",
    "    }\n",
    "}\n",
    "public class PizzaPresunto implements Pizza{\n",
    "    @Override\n",
    "    public void imprimeIngredientes() {\n",
    "        System.out.println(\"Pizza de Presunto: (queijo + presunto + tomate)\");\n",
    "    }\n",
    "}\n"
   ]
  },
  {
   "cell_type": "code",
   "execution_count": 31,
   "metadata": {
    "vscode": {
     "languageId": "java"
    }
   },
   "outputs": [],
   "source": [
    "public class CalzoneCalabresa implements Calzone {\n",
    "    @Override\n",
    "    public void imprimeIngredientes() {\n",
    "        System.out.println(\"Calzone de Calabresa: (queijo + calabresa + tomate)\");\n",
    "    }\n",
    "}\n",
    "\n",
    "public class CalzonePresunto implements Calzone {\n",
    "    @Override\n",
    "    public void imprimeIngredientes() {\n",
    "        System.out.println(\"Calzone de Presunto: (queijo + presunto + tomate)\");\n",
    "    }\n",
    "}"
   ]
  },
  {
   "cell_type": "markdown",
   "metadata": {},
   "source": [
    "#### Definindo a _Abstract Factory_"
   ]
  },
  {
   "cell_type": "code",
   "execution_count": 32,
   "metadata": {
    "vscode": {
     "languageId": "java"
    }
   },
   "outputs": [],
   "source": [
    "public interface Pizzaiolo   {        \n",
    "    public Pizza fazPizza();\n",
    "    public Calzone fazCalzone();\n",
    "}"
   ]
  },
  {
   "cell_type": "markdown",
   "metadata": {},
   "source": [
    "#### Definindo as _Factories_ Concretas"
   ]
  },
  {
   "cell_type": "code",
   "execution_count": 33,
   "metadata": {
    "vscode": {
     "languageId": "java"
    }
   },
   "outputs": [],
   "source": [
    "public class PizzaioloCalabresa implements Pizzaiolo {\n",
    "    @Override\n",
    "    public Calzone fazCalzone() {\n",
    "        return new CalzoneCalabresa();\n",
    "    }\n",
    "    @Override\n",
    "    public Pizza fazPizza() {\n",
    "        return new PizzaCalabresa();\n",
    "    }\n",
    "}\n",
    "public class PizzaioloPresunto implements Pizzaiolo{\n",
    "    @Override\n",
    "    public Calzone fazCalzone() {\n",
    "        return new CalzonePresunto();\n",
    "    }\n",
    "    @Override\n",
    "    public Pizza fazPizza() {\n",
    "        return new PizzaPresunto();\n",
    "    }\n",
    "}"
   ]
  },
  {
   "cell_type": "markdown",
   "metadata": {},
   "source": [
    "#### Definindo o _Client_"
   ]
  },
  {
   "cell_type": "code",
   "execution_count": 34,
   "metadata": {
    "vscode": {
     "languageId": "java"
    }
   },
   "outputs": [],
   "source": [
    "import java.time.DayOfWeek;\n",
    "import java.time.format.DateTimeFormatter;\n",
    "import java.time.format.TextStyle;\n",
    "import java.util.Locale;\n",
    "import java.time.format.DateTimeParseException;\n",
    "public class ClientPizza {\n",
    "    \n",
    "    Pizza pizza;\n",
    "    Calzone calzone;\n",
    "    Pizzaiolo pizzaiolo;\n",
    "\n",
    "    public static String getDayOfWeek(String data) {\n",
    "        DateTimeFormatter parser = DateTimeFormatter.ofPattern(\"dd/MM/yyyy\");\n",
    "        DayOfWeek dow = DayOfWeek.from(parser.parse(data));\n",
    "        return dow.getDisplayName(TextStyle.SHORT, new Locale(\"pt\", \"BR\")).toUpperCase();\n",
    "    }\n",
    "\n",
    "    public void fazPedido(String data){\n",
    "        try{\n",
    "            String diaDaSemana = getDayOfWeek(data);\n",
    "\n",
    "            System.out.println(diaDaSemana);\n",
    "\n",
    "            if(diaDaSemana.contains(\"DOM\")){\n",
    "                System.out.println(\"Pizzaria Fechada\");\n",
    "                return;\n",
    "            }\n",
    "\n",
    "            if (diaDaSemana.contains(\"SEG\") || diaDaSemana.contains(\"QUA\") || diaDaSemana.contains(\"SEX\") ) {\n",
    "                this.pizzaiolo = new PizzaioloCalabresa();\n",
    "            }else\n",
    "                this.pizzaiolo = new PizzaioloPresunto();\n",
    "\n",
    "\n",
    "            Pizza pizza = this.pizzaiolo.fazPizza();\n",
    "            pizza.imprimeIngredientes();\n",
    "            Calzone calzone = this.pizzaiolo.fazCalzone();\n",
    "            calzone.imprimeIngredientes();\n",
    "\n",
    "        }catch(DateTimeParseException e){\n",
    "            System.out.println(\"Data inválida\");\n",
    "        }\n",
    "    }\n",
    "}"
   ]
  },
  {
   "cell_type": "code",
   "execution_count": 36,
   "metadata": {
    "vscode": {
     "languageId": "java"
    }
   },
   "outputs": [
    {
     "name": "stdout",
     "output_type": "stream",
     "text": [
      "Data inválida\n",
      "\n",
      "TER\n",
      "Pizza de Presunto: (queijo + presunto + tomate)\n",
      "Calzone de Presunto: (queijo + presunto + tomate)\n",
      "\n",
      "QUA\n",
      "Pizza de Calabresa: (queijo + calabresa + tomate)\n",
      "Calzone de Calabresa: (queijo + calabresa + tomate)\n",
      "\n",
      "DOM\n",
      "Pizzaria Fechada\n"
     ]
    },
    {
     "name": "stdout",
     "output_type": "stream",
     "text": [
      "\n"
     ]
    }
   ],
   "source": [
    "ClientPizza cliente = new ClientPizza();\n",
    "cliente.fazPedido(\"32/11/2023\"); // Inválida\n",
    "System.out.println(\"\");\n",
    "\n",
    "cliente.fazPedido(\"28/11/2023\"); // Terça\n",
    "System.out.println(\"\");\n",
    "\n",
    "cliente.fazPedido(\"29/11/2023\"); // Quarta\n",
    "System.out.println(\"\");\n",
    "\n",
    "cliente.fazPedido(\"03/12/2023\"); // Domingo\n",
    "System.out.println(\"\");\n"
   ]
  },
  {
   "cell_type": "markdown",
   "metadata": {},
   "source": [
    "Vemos que com as abstrações o cliente precisa simplesmente carregar uma Factory Abstrata do Pizzaiolo para receber os Products concretos da Pizza e do Calzone de Calabresa ou Presunto. O cliente carrega só um código para imprimir os ingredientes da Pizza e do Calzone sem saber qual o tipo desses Products.\n",
    "\n",
    "Usando o padrão de Abstract Factory vemos que por tudo ser baseado em abstrações, adicionar um novo produto é facil e os outros módulos não serão afetados. Adicionar sabores de Pizza ou Calzone também é fácil pois temos que somente dar override nas funções e mudar um pouco o código do cliente.\n",
    "\n",
    "O Abstract Factory nos permite dar a certeza pro cliente que o Product (Pizza ou Calzone nesse contexto) são compátiveis com os métodos e ele também permite que nós evitamos colocar produtos concretos no código do client. O problema que podemos perceber com este padrão é que são introduzidos códigos bastante complexos (uso de interfaces) em contextos simples, porém para casos onde Produtos novos são introduzidos constantemente esse padrão de projeto é interessante."
   ]
  },
  {
   "cell_type": "markdown",
   "metadata": {},
   "source": [
    "# Factory Method"
   ]
  },
  {
   "cell_type": "markdown",
   "metadata": {},
   "source": [
    "## 3.1 "
   ]
  },
  {
   "cell_type": "markdown",
   "metadata": {},
   "source": [
    "No exercício foi pedido que fossem criadas duas aplicações de construção de nome, uma para cada formato. \n",
    "Os formatos podem ser \"nome sobrenome\" ou \"sobrenome, nome\". Para isso, implementei o factory method com \n",
    "duas classes (NameSimple e NameComplex) que implementam a interface Name, que possui um método que imprime o nome. \n",
    "Esses são os produtos. \n",
    "\n",
    "\n",
    "Também implementei a fábrica como uma interface chamada NameFactory, com um método de criar um nome. Essa interface é implementada por NameFactorySimple\n",
    "e NameFactoryComplex. Assim, quando o usuário desejar criar um objeto Name, ele chamará a fábrica, que por sua vez,\n",
    "criará o objeto name, sendo NameSimple ou NameComplex.\n",
    "\n",
    "\n",
    "ENTRADA: \"McNealy, Scott\" \"James Gosling\" \"Naughton, Patrick\"\n",
    "\n",
    "\n",
    "SAÍDA:  \n",
    "\n",
    "James Gosling\n",
    "         \n",
    "Scott McNealy\n",
    "         \n",
    "Patrick Naughton"
   ]
  },
  {
   "cell_type": "code",
   "execution_count": 37,
   "metadata": {
    "vscode": {
     "languageId": "java"
    }
   },
   "outputs": [],
   "source": [
    "public interface Name {\n",
    "    public void print();\n",
    "}"
   ]
  },
  {
   "cell_type": "code",
   "execution_count": 38,
   "metadata": {
    "vscode": {
     "languageId": "java"
    }
   },
   "outputs": [],
   "source": [
    "public class NameSimple implements Name {\n",
    "    private String first_name;\n",
    "    private String last_name;\n",
    "    public NameSimple(String first_name, String last_name) {\n",
    "        this.first_name = first_name;\n",
    "        this.last_name = last_name;\n",
    "    }\n",
    "    @Override\n",
    "    public void print() {\n",
    "        System.out.println(this.first_name + ' ' +   this.last_name);\n",
    "    }\n",
    "    \n",
    "}\n",
    "\n",
    "public class NameComplex implements Name {\n",
    "    private String first_name;\n",
    "    private String last_name;\n",
    "\n",
    "    public NameComplex(String first_name, String last_name) {\n",
    "        this.first_name = first_name;\n",
    "        this.last_name = last_name;\n",
    "    }\n",
    "    @Override\n",
    "    public void print() {\n",
    "        System.out.println(this.first_name + \" \" +   this.last_name);\n",
    "    }\n",
    "    \n",
    "}"
   ]
  },
  {
   "cell_type": "code",
   "execution_count": 39,
   "metadata": {
    "vscode": {
     "languageId": "java"
    }
   },
   "outputs": [],
   "source": [
    "public interface NameFactory {\n",
    "    public Name createName(String name);\n",
    "}"
   ]
  },
  {
   "cell_type": "code",
   "execution_count": 40,
   "metadata": {
    "vscode": {
     "languageId": "java"
    }
   },
   "outputs": [],
   "source": [
    "public class NameSimpleFactory implements NameFactory {\n",
    "    \n",
    "   \n",
    "    @Override\n",
    "    public Name createName(String name) {\n",
    "        String[] namesplt = name.split(\" \");\n",
    "        String first_name = namesplt[0];\n",
    "        String last_name = namesplt[1];\n",
    "       return new NameSimple(first_name, last_name);\n",
    "    }\n",
    "    \n",
    "}\n",
    "\n",
    "public class NameComplexFactory implements NameFactory {\n",
    "\n",
    "    @Override\n",
    "    public Name createName(String name) {\n",
    "        String[] namesplt = name.split(\" \");\n",
    "        String first_name = namesplt[1];\n",
    "        String last_name = namesplt[0].substring(0, namesplt[0].length() - 1);\n",
    "        return new NameComplex(first_name, last_name);\n",
    "    }\n",
    "    \n",
    "}"
   ]
  },
  {
   "cell_type": "code",
   "execution_count": 41,
   "metadata": {
    "vscode": {
     "languageId": "java"
    }
   },
   "outputs": [],
   "source": [
    "String[] input = new String[]{\"McNealy, Scott\", \"James Gosling\", \"Naughton, Patrick\"};"
   ]
  },
  {
   "cell_type": "code",
   "execution_count": 42,
   "metadata": {
    "vscode": {
     "languageId": "java"
    }
   },
   "outputs": [
    {
     "name": "stdout",
     "output_type": "stream",
     "text": [
      "Scott McNealy\n",
      "James Gosling\n",
      "Patrick Naughton\n"
     ]
    }
   ],
   "source": [
    "//cria as fábricas para nomes simples e complexos\n",
    "NameSimpleFactory simpleFactory = new NameSimpleFactory();\n",
    "NameComplexFactory complexFactory = new NameComplexFactory();\n",
    "\n",
    "//lê a entrada, identifica se é nome simples ou complexo e chama a fábrica correspondente\n",
    "for (String name : input) {\n",
    "\n",
    "    String[] nameSplt = name.split(\" \");\n",
    "    if (nameSplt[0].substring(nameSplt[0].length() - 1).equals(\",\")) {\n",
    "        \n",
    "        Name namePrint = complexFactory.createName(name);\n",
    "        namePrint.print();\n",
    "    }\n",
    "    else {\n",
    "        Name namePrint = simpleFactory.createName(name);\n",
    "        namePrint.print();\n",
    "    }\n",
    "}    \n",
    " "
   ]
  },
  {
   "cell_type": "markdown",
   "metadata": {},
   "source": [
    "## 3.2"
   ]
  },
  {
   "cell_type": "markdown",
   "metadata": {},
   "source": [
    "No exercício foi pedido que dada uma senha passada pelo usuário, caso essa senha fosse \"designpatterns\", deveria ser mostrada uma mensagem lida de um arquivo confidencial, caso contrario uma mensagem lida de um arquivo público.\n",
    "\n",
    "\n",
    "Para isso utilizei uma interface Info que possui um método que imprime a mensagem do arquivo e duas classes que implementam essa interface: InfoConfidential e InfoPublic\n",
    "Ao invés da factory ser uma interface, usei uma forma de factory method um pouco diferente do execício anterior, optando por uma classe InfoFactory, que dada uma entrada (senha), verifica se a senha é correta ou não, e lê o arquivo correspondente. \n",
    "\n",
    "Ou seja, \n",
    "a verificação se a senha está certa não ocorre na Main e sim na própria factory. \n",
    "Os arquivos estão como documentos texto, publico.txt e confidencial.txt. "
   ]
  },
  {
   "cell_type": "code",
   "execution_count": 43,
   "metadata": {
    "vscode": {
     "languageId": "java"
    }
   },
   "outputs": [],
   "source": [
    "import java.io.File;\n",
    "import java.io.FileNotFoundException;\n",
    "import java.util.Scanner;"
   ]
  },
  {
   "cell_type": "code",
   "execution_count": 44,
   "metadata": {
    "vscode": {
     "languageId": "java"
    }
   },
   "outputs": [],
   "source": [
    "public interface Info {\n",
    "    public void printFile();\n",
    "}"
   ]
  },
  {
   "cell_type": "code",
   "execution_count": 45,
   "metadata": {
    "vscode": {
     "languageId": "java"
    }
   },
   "outputs": [],
   "source": [
    "public class InfoConfidential implements Info {\n",
    "    private String message;\n",
    "    public InfoConfidential(String message) {\n",
    "        this.message = message;     \n",
    "    \n",
    "    }\n",
    "    @Override\n",
    "    public void printFile() {\n",
    "        System.out.println(message);\n",
    "    }\n",
    "\n",
    "    \n",
    "}\n",
    "\n",
    "public class InfoPublic implements Info{\n",
    "    \n",
    "    private String message;\n",
    "    public InfoPublic(String message) {\n",
    "        this.message = message;       \n",
    "    }\n",
    "\n",
    "    \n",
    "    @Override\n",
    "    public void printFile() {\n",
    "        System.out.println(this.message);\n",
    "    }\n",
    "\n",
    "    \n",
    "}"
   ]
  },
  {
   "cell_type": "code",
   "execution_count": 47,
   "metadata": {
    "vscode": {
     "languageId": "java"
    }
   },
   "outputs": [],
   "source": [
    "public class InfoFactory {\n",
    "\n",
    "    private String readFile(String path) {\n",
    "        try {\n",
    "            String message = \"\";\n",
    "            File file = new File(path);\n",
    "            Scanner myReader = new Scanner(file);\n",
    "        while (myReader.hasNextLine()) {\n",
    "            message += myReader.nextLine();            \n",
    "        }\n",
    "        myReader.close();\n",
    "\n",
    "        return message;\n",
    "\n",
    "        } catch (FileNotFoundException e) {\n",
    "            System.out.println(\"An error occurred.\");\n",
    "            e.printStackTrace();\n",
    "            return null;\n",
    "        }\n",
    "        \n",
    "    }\n",
    " \n",
    "    public Info createInfo(String passwrord) {\n",
    "        if (passwrord.equals(\"designpatterns\"))           \n",
    "            return new InfoConfidential(readFile(\"confidencial.txt\"));        \n",
    "        else \n",
    "            return new InfoPublic(readFile(\"publico.txt\"));\n",
    "        \n",
    "    }\n",
    "\n",
    "}"
   ]
  },
  {
   "cell_type": "code",
   "execution_count": 48,
   "metadata": {
    "vscode": {
     "languageId": "java"
    }
   },
   "outputs": [
    {
     "name": "stdout",
     "output_type": "stream",
     "text": [
      "Estas sao informacoes publicas sobre qualquer coisa. Todo mundo pode ver este arquivo.\n",
      "Estas sao informacoes confidenciais, o que significa que voce provavelmente sabe a palavra secreta!\n"
     ]
    }
   ],
   "source": [
    "//cria a fábrica\n",
    "InfoFactory factory = new InfoFactory();\n",
    "// cria o objeto Info por meio da factory InfoFactory, que retorna InfoConfidential ou InfoPublic,\n",
    "// dependendo se a senha estiver correta.\n",
    "Info info = factory.createInfo(\"skaodskaodka\");\n",
    "//chama o método de Info que imprime na tela a mensagem\n",
    "info.printFile();\n",
    "\n",
    "Info info2 = factory.createInfo(\"designpatterns\");\n",
    "//chama o método de Info que imprime na tela a mensagem\n",
    "info2.printFile();\n"
   ]
  },
  {
   "cell_type": "markdown",
   "metadata": {},
   "source": [
    "# Decorator"
   ]
  },
  {
   "cell_type": "markdown",
   "metadata": {},
   "source": [
    "## 4.1"
   ]
  },
  {
   "cell_type": "code",
   "execution_count": 2,
   "metadata": {
    "vscode": {
     "languageId": "java"
    }
   },
   "outputs": [],
   "source": [
    "import java.time.LocalTime;\n",
    "import java.time.format.DateTimeFormatter;\n",
    "import java.time.LocalDateTime;"
   ]
  },
  {
   "cell_type": "markdown",
   "metadata": {},
   "source": [
    "Componente é a interface comum a todos, decoradores e objetos"
   ]
  },
  {
   "cell_type": "code",
   "execution_count": 3,
   "metadata": {
    "vscode": {
     "languageId": "java"
    }
   },
   "outputs": [],
   "source": [
    "public interface Componente {\n",
    "    public void executarTarefa() throws InterruptedException;\n",
    "}"
   ]
  },
  {
   "cell_type": "markdown",
   "metadata": {},
   "source": [
    "Componente Concreto a classe do objeto q está sendo decorado e é tbm quem define a função a ser exercutada"
   ]
  },
  {
   "cell_type": "code",
   "execution_count": 4,
   "metadata": {
    "vscode": {
     "languageId": "java"
    }
   },
   "outputs": [],
   "source": [
    "public class ComponenteConcreto implements Componente {\n",
    "    \n",
    "    public void executarTarefa() throws InterruptedException { Thread.sleep(2000); }\n",
    "\n",
    "}"
   ]
  },
  {
   "cell_type": "markdown",
   "metadata": {},
   "source": [
    "Interceptador1 é o decorador cronômetro cronometra e printa o tempo de execução do programa"
   ]
  },
  {
   "cell_type": "code",
   "execution_count": 5,
   "metadata": {
    "vscode": {
     "languageId": "java"
    }
   },
   "outputs": [],
   "source": [
    "public class Interceptador1 implements Componente {\n",
    "\n",
    "    private Componente componente;\n",
    "\n",
    "    public Interceptador1(Componente componente){\n",
    "        this.componente = componente;\n",
    "    }\n",
    "\n",
    "    public void executarTarefa() throws InterruptedException {\n",
    "        \n",
    "        long antes = System.currentTimeMillis();\n",
    "        componente.executarTarefa();\n",
    "        long depois = System.currentTimeMillis();\n",
    "        System.out.print((depois - antes) + \"ms\");\n",
    "    }\n",
    "    \n",
    "}"
   ]
  },
  {
   "cell_type": "markdown",
   "metadata": {},
   "source": [
    "Interceptador2 é o decorador log que imprime a hora e data antes da execução da função"
   ]
  },
  {
   "cell_type": "code",
   "execution_count": 6,
   "metadata": {
    "vscode": {
     "languageId": "java"
    }
   },
   "outputs": [],
   "source": [
    "public class Interceptador2 implements Componente {\n",
    "\n",
    "    private Componente componente;\n",
    "\n",
    "    public Interceptador2(Componente componente) {\n",
    "        this.componente = componente;\n",
    "    }\n",
    "\n",
    "    public void executarTarefa() throws InterruptedException {\n",
    "        DateTimeFormatter dtf = DateTimeFormatter.ofPattern(\"dd/MM/yyyy HH:mm:ss\");\n",
    "        LocalDateTime now = LocalDateTime.now();\n",
    "        System.out.print(dtf.format(now) + \": \"); //01/02/2019 14:08:43\n",
    "        componente.executarTarefa();\n",
    "    }\n",
    "\n",
    "}"
   ]
  },
  {
   "cell_type": "markdown",
   "metadata": {},
   "source": [
    "Interceptador3 é o decorador condicional que para o programa caso o horário do sistema tenha minuto par"
   ]
  },
  {
   "cell_type": "code",
   "execution_count": 9,
   "metadata": {
    "vscode": {
     "languageId": "java"
    }
   },
   "outputs": [],
   "source": [
    "public class Interceptador3 implements Componente {\n",
    "\n",
    "    private Componente componente;\n",
    "\n",
    "    public Interceptador3(Componente componente) {\n",
    "        this.componente = componente;\n",
    "    }\n",
    "\n",
    "    public void executarTarefa() throws InterruptedException {\n",
    "        DateTimeFormatter dtf = DateTimeFormatter.ofPattern(\"HH:mm:ss\");\n",
    "        LocalTime now = LocalTime.now();\n",
    "        if (now.getMinute()%2 == 0){\n",
    "            System.out.println(\"Execução interrompida em minuto par: \" + dtf.format(now)); //01/02/2019 14:08:43\n",
    "        }\n",
    "        else{\n",
    "        componente.executarTarefa();\n",
    "        }\n",
    "    }\n",
    "\n",
    "}"
   ]
  },
  {
   "cell_type": "code",
   "execution_count": 10,
   "metadata": {
    "vscode": {
     "languageId": "java"
    }
   },
   "outputs": [
    {
     "name": "stdout",
     "output_type": "stream",
     "text": [
      "28/11/2023 18:03:41: "
     ]
    },
    {
     "name": "stdout",
     "output_type": "stream",
     "text": [
      "2000ms"
     ]
    }
   ],
   "source": [
    "Componente c;\n",
    "c = new Interceptador2(new Interceptador3(new Interceptador1(new ComponenteConcreto())));\n",
    "\n",
    "c.executarTarefa(); // Executar em minuto impar"
   ]
  },
  {
   "cell_type": "code",
   "execution_count": 11,
   "metadata": {
    "vscode": {
     "languageId": "java"
    }
   },
   "outputs": [
    {
     "name": "stdout",
     "output_type": "stream",
     "text": [
      "28/11/2023 18:04:03: Execução interrompida em minuto par: 18:04:03\n"
     ]
    }
   ],
   "source": [
    "c.executarTarefa(); // Executar em minuto par"
   ]
  },
  {
   "cell_type": "markdown",
   "metadata": {},
   "source": [
    "\n",
    "Nessa situação o padrão Decorator está sendo utilizado para que a função a ser executada compra o padrão exigido \n",
    "pelo sistema e apresente os condicionais necessários na ordem em que foi pedido\n"
   ]
  },
  {
   "cell_type": "markdown",
   "metadata": {},
   "source": [
    "## 4.2\n"
   ]
  },
  {
   "cell_type": "markdown",
   "metadata": {},
   "source": [
    "Componente é a interface comum a todos, decoradores e objetos"
   ]
  },
  {
   "cell_type": "code",
   "execution_count": 163,
   "metadata": {
    "vscode": {
     "languageId": "java"
    }
   },
   "outputs": [],
   "source": [
    "public interface Componente2 {\n",
    "    public void imprimir();\n",
    "}"
   ]
  },
  {
   "cell_type": "markdown",
   "metadata": {},
   "source": [
    "NumeroUm a classe do objeto q está sendo decorado e é tbm quem define a função a ser exercutada"
   ]
  },
  {
   "cell_type": "code",
   "execution_count": 164,
   "metadata": {
    "vscode": {
     "languageId": "java"
    }
   },
   "outputs": [],
   "source": [
    "public class NumeroUm implements Componente2 {\n",
    "\n",
    "    public void imprimir() {System.out.print(\"1\");}\n",
    "}"
   ]
  },
  {
   "cell_type": "markdown",
   "metadata": {},
   "source": [
    "Interceptador_Chave é o decorador que printa uma chave antes e depois da execução da função"
   ]
  },
  {
   "cell_type": "code",
   "execution_count": 165,
   "metadata": {
    "vscode": {
     "languageId": "java"
    }
   },
   "outputs": [],
   "source": [
    "public class Interceptador_Chave implements Componente2 {\n",
    "\n",
    "    private Componente2 componente;\n",
    "\n",
    "    public Interceptador_Chave(Componente2 componente){\n",
    "        this.componente = componente;\n",
    "    }\n",
    "\n",
    "    public void imprimir(){\n",
    "        System.out.print(\"{\");\n",
    "        componente.imprimir();\n",
    "        System.out.print(\"}\");\n",
    "    }\n",
    "    \n",
    "}"
   ]
  },
  {
   "cell_type": "markdown",
   "metadata": {},
   "source": [
    "Interceptador_Colchete é o decorador que printa o colchete antes e depois da execução da função"
   ]
  },
  {
   "cell_type": "code",
   "execution_count": 166,
   "metadata": {
    "vscode": {
     "languageId": "java"
    }
   },
   "outputs": [],
   "source": [
    "public class Interceptador_Colchete implements Componente2 {\n",
    "\n",
    "    private Componente2 componente;\n",
    "\n",
    "    public Interceptador_Colchete(Componente2 componente){\n",
    "        this.componente = componente;\n",
    "    }\n",
    "\n",
    "    public void imprimir(){\n",
    "        System.out.print(\"[\");\n",
    "        componente.imprimir();\n",
    "        System.out.print(\"]\");\n",
    "    }\n",
    "    \n",
    "}"
   ]
  },
  {
   "cell_type": "markdown",
   "metadata": {},
   "source": [
    "Interceptador_Parenteses é o decorador que printa um parênteses antes e depois da execução da função"
   ]
  },
  {
   "cell_type": "code",
   "execution_count": 167,
   "metadata": {
    "vscode": {
     "languageId": "java"
    }
   },
   "outputs": [],
   "source": [
    "public class Interceptador_Parenteses implements Componente2 {\n",
    "\n",
    "    private Componente2 componente;\n",
    "\n",
    "    public Interceptador_Parenteses(Componente2 componente){\n",
    "        this.componente = componente;\n",
    "    }\n",
    "\n",
    "    public void imprimir(){\n",
    "        System.out.print(\"(\");\n",
    "        componente.imprimir();\n",
    "        System.out.print(\")\");\n",
    "    }\n",
    "    \n",
    "}"
   ]
  },
  {
   "cell_type": "markdown",
   "metadata": {},
   "source": [
    "Nessa situação o padrão Decorator está sendo utilizado para demostrar as possibilidades de uso do padrão\n",
    "uma vez que o padrão Decorator serve como um envoltório que envolve a função principal e não necessariamente apresenta uma ordem de execução entre si\n"
   ]
  },
  {
   "cell_type": "code",
   "execution_count": 168,
   "metadata": {
    "vscode": {
     "languageId": "java"
    }
   },
   "outputs": [
    {
     "name": "stdout",
     "output_type": "stream",
     "text": [
      "[{([1])}]"
     ]
    }
   ],
   "source": [
    "Componente2 c;\n",
    "c =  new Interceptador_Colchete(new Interceptador_Chave(new Interceptador_Parenteses(new Interceptador_Colchete(new NumeroUm()))));\n",
    "\n",
    "c.imprimir();"
   ]
  },
  {
   "cell_type": "code",
   "execution_count": 169,
   "metadata": {
    "vscode": {
     "languageId": "java"
    }
   },
   "outputs": [
    {
     "name": "stdout",
     "output_type": "stream",
     "text": [
      "[{([{[(1)]}])}]"
     ]
    }
   ],
   "source": [
    "c =  new Interceptador_Colchete(new Interceptador_Chave(new Interceptador_Parenteses(new Interceptador_Colchete(new Interceptador_Chave(new Interceptador_Colchete(new Interceptador_Parenteses(new NumeroUm())))))));\n",
    "\n",
    "c.imprimir();"
   ]
  }
 ],
 "metadata": {
  "kernelspec": {
   "display_name": "Java",
   "language": "java",
   "name": "java"
  },
  "language_info": {
   "codemirror_mode": "java",
   "file_extension": ".jshell",
   "mimetype": "text/x-java-source",
   "name": "Java",
   "pygments_lexer": "java",
   "version": "11.0.14.1+1-LTS"
  },
  "nbdime-conflicts": {
   "local_diff": [
    {
     "diff": [
      {
       "diff": [
        {
         "key": 0,
         "op": "addrange",
         "valuelist": [
          "19.0.2+7-Ubuntu-0ubuntu322.04"
         ]
        },
        {
         "key": 0,
         "length": 1,
         "op": "removerange"
        }
       ],
       "key": "version",
       "op": "patch"
      }
     ],
     "key": "language_info",
     "op": "patch"
    }
   ],
   "remote_diff": [
    {
     "diff": [
      {
       "diff": [
        {
         "key": 0,
         "op": "addrange",
         "valuelist": [
          "19.0.2+7-44"
         ]
        },
        {
         "key": 0,
         "length": 1,
         "op": "removerange"
        }
       ],
       "key": "version",
       "op": "patch"
      }
     ],
     "key": "language_info",
     "op": "patch"
    }
   ]
  }
 },
 "nbformat": 4,
 "nbformat_minor": 2
}
