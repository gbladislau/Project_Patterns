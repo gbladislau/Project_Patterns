{
 "cells": [
  {
   "cell_type": "markdown",
   "id": "8268831c-2071-477a-8889-2ea0305fe36c",
   "metadata": {},
   "source": [
    "# Adapters"
   ]
  },
  {
   "cell_type": "markdown",
   "id": "32982d0a-2b7a-4d23-a16c-51656c308a34",
   "metadata": {},
   "source": [
    "## Exercício 1.1"
   ]
  },
  {
   "cell_type": "markdown",
   "id": "bf242a32-9491-45d0-b814-e425c690030e",
   "metadata": {},
   "source": [
    "A implementação de um adapter de classe aqui se deve ao fato de que precisamos determinar um novo construtor para a classe de forma independente ao código original.\n",
    "Com isso, não precisamos construir uma HashMap e depois montar ela por meio de uma função, mas sim, chamar um adaptador que lida com os tipos de dados fornecidos."
   ]
  },
  {
   "cell_type": "code",
   "execution_count": 38,
   "id": "f83e9165-4275-4b94-bff6-2174e2153c11",
   "metadata": {},
   "outputs": [],
   "source": [
    "import java.util.HashMap;\n",
    "\n",
    "public class HashMapAdapter extends HashMap {\n",
    "    public HashMapAdapter(int[][] key_value_matrix) {\n",
    "        for (int i = 0; i < key_value_matrix[0].length; i++)\n",
    "            this.put(key_value_matrix[0][i], key_value_matrix[1][i]);\n",
    "    }\n",
    "}"
   ]
  },
  {
   "cell_type": "code",
   "execution_count": 39,
   "id": "2f8b69e7-e1c7-4ba8-bd70-44bbb69a39b2",
   "metadata": {},
   "outputs": [
    {
     "name": "stdout",
     "output_type": "stream",
     "text": [
      "{1=10, 2=20, 3=30, 4=40}\n"
     ]
    }
   ],
   "source": [
    "int[][] dictionary_matrix = {{1, 2, 3, 4}, {10, 20, 30, 40}};\n",
    "HashMapAdapter hma = new HashMapAdapter(dictionary_matrix);\n",
    "System.out.println(hma);"
   ]
  },
  {
   "cell_type": "markdown",
   "id": "bc8dd00d-0d90-4dc0-a336-7652777f20c8",
   "metadata": {},
   "source": [
    "## Exercício 1.2"
   ]
  },
  {
   "cell_type": "markdown",
   "id": "1f98e499-be5e-4570-ab22-d107db369732",
   "metadata": {},
   "source": [
    "Código extraído da atividade:"
   ]
  },
  {
   "cell_type": "code",
   "execution_count": 40,
   "id": "a4bebb9b-4e89-483f-ad55-ade034c9f6de",
   "metadata": {},
   "outputs": [],
   "source": [
    "public interface SomadorEsperado {\n",
    "    int somaVetor(int[] vetor);\n",
    "}"
   ]
  },
  {
   "cell_type": "code",
   "execution_count": 41,
   "id": "a1be1f35-5e54-4d7a-85ba-4f8409bade04",
   "metadata": {},
   "outputs": [],
   "source": [
    "import java.util.List;\n",
    "\n",
    "public class SomadorExistente {\n",
    "    public int somaLista(List<Integer> lista) {\n",
    "        int resultado = 0;\n",
    "        for (int i : lista) resultado += i;\n",
    "        return resultado;\n",
    "    }\n",
    "}"
   ]
  },
  {
   "cell_type": "code",
   "execution_count": 42,
   "id": "6773d1f6-856f-4ae3-a3fe-7b4d1639cf7d",
   "metadata": {},
   "outputs": [],
   "source": [
    "public class Cliente {\n",
    "\n",
    "    private SomadorEsperado somador;\n",
    "\n",
    "    public Cliente(SomadorEsperado somador) {\n",
    "        this.somador = somador;\n",
    "    }\n",
    "\n",
    "    public void executar() {\n",
    "        int[] vetor = new int[] {1, 2, 3, 4, 5, 6, 7, 8, 9, 10};\n",
    "        int soma = somador.somaVetor(vetor);\n",
    "        System.out.println(\"Resultado: \" + soma);\n",
    "    }\n",
    "}"
   ]
  },
  {
   "cell_type": "markdown",
   "id": "7aa684c1-7a2f-45db-ab22-2c8cded2ea59",
   "metadata": {},
   "source": [
    "Implementação de um Adapter para somar vetores de inteiros:"
   ]
  },
  {
   "cell_type": "code",
   "execution_count": 43,
   "id": "648a83e0-3822-4f2f-ada3-d9f49a96df3e",
   "metadata": {},
   "outputs": [],
   "source": [
    "public class Somador implements SomadorEsperado {\n",
    "    public int somaVetor(int[] vetor) {\n",
    "        int sum = 0;\n",
    "        for (int i : vetor)\n",
    "            sum += i;\n",
    "        return sum;\n",
    "    }\n",
    "}"
   ]
  },
  {
   "cell_type": "markdown",
   "id": "456249fb-b344-4e57-91f3-6b7b27c99df9",
   "metadata": {},
   "source": [
    "O Adapter de objeto acima é classificado como tal por conta de seu padrão de funcionamento:\n",
    " - Uma interface é implementada por meio de uma classe;\n",
    " - A classe Cliente requer uma implementação de \"soma\" por um meio específico, nesse caso, passar por um vetor e receber sua soma;\n",
    " - O adaptador se torna o intermédio entre as interações por apresentar uma implementação que satisfaz Cliente;\n",
    " - A classe Cliente não é modificada durante o processo, de forma que adaptadores são independentes do funcionamento do código."
   ]
  },
  {
   "cell_type": "markdown",
   "id": "5372ccef-de0a-42e2-87a9-77b51005d530",
   "metadata": {},
   "source": [
    "Uma _main_ é implementada para testar a funcionalidade:"
   ]
  },
  {
   "cell_type": "code",
   "execution_count": 44,
   "id": "eb7413c8-4f81-4576-836f-87fce141bf65",
   "metadata": {},
   "outputs": [
    {
     "name": "stdout",
     "output_type": "stream",
     "text": [
      "Resultado: 55\n"
     ]
    }
   ],
   "source": [
    "Cliente cliente = new Cliente(new Somador());\n",
    "\n",
    "cliente.executar();"
   ]
  }
 ],
 "metadata": {
  "kernelspec": {
   "display_name": "Java",
   "language": "java",
   "name": "java"
  },
  "language_info": {
   "codemirror_mode": "java",
   "file_extension": ".jshell",
   "mimetype": "text/x-java-source",
   "name": "Java",
   "pygments_lexer": "java",
   "version": "19.0.2+7-Ubuntu-0ubuntu322.04"
  }
 },
 "nbformat": 4,
 "nbformat_minor": 5
}
