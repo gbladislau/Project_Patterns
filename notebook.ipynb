{
 "cells": [
  {
   "cell_type": "markdown",
   "metadata": {},
   "source": [
    "# Execícios sobre o Padrão de Projeto AbstracFactory"
   ]
  },
  {
   "cell_type": "markdown",
   "metadata": {},
   "source": [
    "## 1.1 Hello"
   ]
  },
  {
   "cell_type": "markdown",
   "metadata": {},
   "source": [
    "Para implementar este padrão de projeto para o problema proposto é necessário estabelecer:\n",
    "\n",
    "* **Product**: neste caso a interface _Hello_, que possui o método _helloWord()_ que nas classes concretas é implementado ou no prompt quanto no output.txt; \n",
    "* **AbstractFactory**: neste caso seria a interface _AbsHelloFactory_ para representar as factories da interface _Hello_;"
   ]
  },
  {
   "cell_type": "code",
   "execution_count": 54,
   "metadata": {
    "vscode": {
     "languageId": "java"
    }
   },
   "outputs": [],
   "source": [
    "import java.io.BufferedWriter;\n",
    "import java.io.FileWriter;\n",
    "import java.io.IOException;\n",
    "import java.util.Random;"
   ]
  },
  {
   "cell_type": "markdown",
   "metadata": {},
   "source": [
    "Interfaces para representar o Product e a AbstractFactory"
   ]
  },
  {
   "cell_type": "code",
   "execution_count": 49,
   "metadata": {
    "vscode": {
     "languageId": "java"
    }
   },
   "outputs": [],
   "source": [
    "public interface Hello {\n",
    "    public void helloWorld();\n",
    "}\n",
    "\n",
    "public interface AbsHelloFactory {\n",
    "    public Hello createHello();\n",
    "}"
   ]
  },
  {
   "cell_type": "code",
   "execution_count": 50,
   "metadata": {
    "vscode": {
     "languageId": "java"
    }
   },
   "outputs": [],
   "source": [
    "public class HelloString implements Hello{\n",
    "    @Override\n",
    "    public void helloWorld() {\n",
    "        System.out.println(\"Hello, World\");\n",
    "    }\n",
    "}\n",
    "\n",
    "public class HelloStringFactory implements AbsHelloFactory{\n",
    "    @Override\n",
    "    public Hello createHello() {\n",
    "        return new HelloString();\n",
    "    }\n",
    "}"
   ]
  },
  {
   "cell_type": "code",
   "execution_count": 51,
   "metadata": {
    "vscode": {
     "languageId": "java"
    }
   },
   "outputs": [],
   "source": [
    "public class HelloTxt implements Hello {\n",
    "    @Override\n",
    "    public void helloWorld() {\n",
    "        try {\n",
    "            String str = \"Hello, World\";\n",
    "            BufferedWriter writer = new BufferedWriter(new FileWriter(\"output.txt\"));\n",
    "            writer.write(str);\n",
    "            writer.close();\n",
    "        } catch (IOException e) {\n",
    "            System.out.println(\"ERRO DE IO\");\n",
    "        }\n",
    "    }\n",
    "\n",
    "}\n",
    "\n",
    "public class HelloTxtFactory implements AbsHelloFactory{\n",
    "    @Override\n",
    "    public Hello createHello() {\n",
    "        return new HelloTxt();\n",
    "    }\n",
    "}\n"
   ]
  },
  {
   "cell_type": "code",
   "execution_count": 56,
   "metadata": {
    "vscode": {
     "languageId": "java"
    }
   },
   "outputs": [
    {
     "name": "stdout",
     "output_type": "stream",
     "text": [
      "Hello, World\n"
     ]
    }
   ],
   "source": [
    "public class Client {\n",
    "\n",
    "    public AbsHelloFactory helloFactory;\n",
    "    public Hello hello;\n",
    "\n",
    "    Client(){\n",
    "        Random random = new Random();\n",
    "        if (random.nextBoolean()) {\n",
    "            this.helloFactory = new HelloStringFactory();\n",
    "        }\n",
    "        else{\n",
    "            this.helloFactory = new HelloTxtFactory();\n",
    "        }\n",
    "    }\n",
    "}\n",
    "\n",
    "Client a = new Client();\n",
    "a.hello = a.helloFactory.createHello();\n",
    "\n",
    "a.hello.helloWorld();"
   ]
  },
  {
   "cell_type": "markdown",
   "metadata": {},
   "source": [
    "Vemos que como está implementado o cliente independente de quantas vezes ele chame a criação de um produto novo ele sempre será ou HelloTxt ou HelloString já que sua factory não muda."
   ]
  },
  {
   "cell_type": "markdown",
   "metadata": {},
   "source": [
    "## 1.2 Pizzaria"
   ]
  }
 ],
 "metadata": {
  "kernelspec": {
   "display_name": "Java",
   "language": "java",
   "name": "java"
  },
  "language_info": {
   "codemirror_mode": "java",
   "file_extension": ".jshell",
   "mimetype": "text/x-java-source",
   "name": "Java",
   "pygments_lexer": "java",
   "version": "11.0.14.1+1-LTS"
  },
  "orig_nbformat": 4
 },
 "nbformat": 4,
 "nbformat_minor": 2
}
