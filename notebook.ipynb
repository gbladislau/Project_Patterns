{
 "cells": [
  {
   "cell_type": "markdown",
   "metadata": {},
   "source": [
    "# Execícios sobre o Padrão de Projeto AbstractFactory"
   ]
  },
  {
   "cell_type": "markdown",
   "metadata": {},
   "source": [
    "## 1.1 Hello"
   ]
  },
  {
   "cell_type": "markdown",
   "metadata": {},
   "source": [
    "Para implementar este padrão de projeto para o problema proposto é necessário estabelecer:\n",
    "\n",
    "* **_Product_**: neste caso a interface _Hello_, que possui o método _helloWord()_ que nas classes concretas é implementado ou no prompt quanto no output.txt; \n",
    "* **_AbstractFactory_**: neste caso seria a interface _AbsHelloFactory_ para representar as factories da interface _Hello_;\n",
    "* **Factories Concretas**: neste caso seriam as classes concretas de _HelloStringFactory_ e _HelloTxtFactory_;\n",
    "* **Products Concretos**: neste caso seriam as classes concretas que implementam _HelloString_ e _HelloTxt_;\n",
    "* **_Client_**: representa o consumidor e é implementado pela classe _Client_;"
   ]
  },
  {
   "cell_type": "code",
   "execution_count": 132,
   "metadata": {
    "vscode": {
     "languageId": "java"
    }
   },
   "outputs": [],
   "source": [
    "import java.io.BufferedWriter;\n",
    "import java.io.FileWriter;\n",
    "import java.io.IOException;\n",
    "import java.util.Random;"
   ]
  },
  {
   "cell_type": "markdown",
   "metadata": {},
   "source": [
    "#### Interfaces para representar o Product e a AbstractFactory"
   ]
  },
  {
   "cell_type": "code",
   "execution_count": 133,
   "metadata": {
    "vscode": {
     "languageId": "java"
    }
   },
   "outputs": [],
   "source": [
    "public interface Hello {\n",
    "    public void helloWorld();\n",
    "}\n",
    "\n",
    "public interface AbsHelloFactory {\n",
    "    public Hello createHello();\n",
    "}"
   ]
  },
  {
   "cell_type": "markdown",
   "metadata": {},
   "source": [
    "#### Classes para implementar as Factories e Products concretos"
   ]
  },
  {
   "cell_type": "code",
   "execution_count": 134,
   "metadata": {
    "vscode": {
     "languageId": "java"
    }
   },
   "outputs": [],
   "source": [
    "public class HelloString implements Hello{\n",
    "    @Override\n",
    "    public void helloWorld() {\n",
    "        System.out.println(\"Hello, World\");\n",
    "    }\n",
    "}\n",
    "\n",
    "public class HelloStringFactory implements AbsHelloFactory{\n",
    "    @Override\n",
    "    public Hello createHello() {\n",
    "        return new HelloString();\n",
    "    }\n",
    "}"
   ]
  },
  {
   "cell_type": "code",
   "execution_count": 135,
   "metadata": {
    "vscode": {
     "languageId": "java"
    }
   },
   "outputs": [],
   "source": [
    "public class HelloTxt implements Hello {\n",
    "    @Override\n",
    "    public void helloWorld() {\n",
    "        try {\n",
    "            String str = \"Hello, World\";\n",
    "            BufferedWriter writer = new BufferedWriter(new FileWriter(\"output.txt\"));\n",
    "            writer.write(str);\n",
    "            writer.close();\n",
    "        } catch (IOException e) {\n",
    "            System.out.println(\"ERRO DE IO\");\n",
    "        }\n",
    "    }\n",
    "\n",
    "}\n",
    "\n",
    "public class HelloTxtFactory implements AbsHelloFactory{\n",
    "    @Override\n",
    "    public Hello createHello() {\n",
    "        return new HelloTxt();\n",
    "    }\n",
    "}\n"
   ]
  },
  {
   "cell_type": "markdown",
   "metadata": {},
   "source": [
    "#### Definindo o _Client_"
   ]
  },
  {
   "cell_type": "code",
   "execution_count": 136,
   "metadata": {
    "vscode": {
     "languageId": "java"
    }
   },
   "outputs": [],
   "source": [
    "public class Client {\n",
    "\n",
    "    public AbsHelloFactory helloFactory;\n",
    "    public Hello hello;\n",
    "\n",
    "    Client(){\n",
    "        Random random = new Random();\n",
    "        if (random.nextBoolean()) {\n",
    "            this.helloFactory = new HelloStringFactory();\n",
    "        }\n",
    "        else{\n",
    "            this.helloFactory = new HelloTxtFactory();\n",
    "        }\n",
    "    }\n",
    "}\n",
    "\n",
    "Client a = new Client();\n",
    "a.hello = a.helloFactory.createHello();\n",
    "\n",
    "a.hello.helloWorld();"
   ]
  },
  {
   "cell_type": "markdown",
   "metadata": {},
   "source": [
    "Vemos que como está implementado o cliente independente de quantas vezes ele chame a criação de um produto novo ele sempre será ou HelloTxt ou HelloString já que sua factory não muda.\n",
    "\n",
    "O padrão Abstract Factory garante para o cliente que ele não necessita de saber qual Hello ele vai receber mas que ele sempre vai gerar um Hello, World no final.\n"
   ]
  },
  {
   "cell_type": "markdown",
   "metadata": {},
   "source": [
    "## 1.2 Pizzaria"
   ]
  },
  {
   "cell_type": "markdown",
   "metadata": {},
   "source": [
    "Para implementar este padrão de projeto para o problema da Pizzaria é necessário estabelecer:\n",
    "\n",
    "* **_Product_**: neste caso a interface _Pizza_ e _Calzone_, que possui o método _imprimeIngredientes()_ que faz oque seu nome indica; \n",
    "* **_AbstractFactory_**: neste caso seria a interface _Pizzaiolo_ para representar as factories das interfaces dos _Products_ _Pizza_ e _Calzone_;\n",
    "* **Factories Concretas**: neste caso seriam as classes concretas de Pizzaiolos Calabresa e Presunto;\n",
    "* **Products Concretos**: neste caso seriam as classes concretas que implementam Pizza e Calzone, PizzaPresunto, PizzaCalabresa, CalzonePresunto e CalzoneCalbresa;\n",
    "* **_Client_**: representa o consumidor e é implementado pela classe ClientPizza;"
   ]
  },
  {
   "cell_type": "markdown",
   "metadata": {},
   "source": [
    "#### Definindo os dois _Products_ na sua forma abstrata"
   ]
  },
  {
   "cell_type": "code",
   "execution_count": 137,
   "metadata": {
    "vscode": {
     "languageId": "java"
    }
   },
   "outputs": [],
   "source": [
    "public interface Pizza {\n",
    "    void imprimeIngredientes();\n",
    "}\n",
    "public interface Calzone {\n",
    "    void imprimeIngredientes();\n",
    "}"
   ]
  },
  {
   "cell_type": "markdown",
   "metadata": {},
   "source": [
    "#### As definições concretas destes _Products_ (Calabresa e presunto)"
   ]
  },
  {
   "cell_type": "code",
   "execution_count": 138,
   "metadata": {
    "vscode": {
     "languageId": "java"
    }
   },
   "outputs": [],
   "source": [
    "public class PizzaCalabresa implements Pizza{\n",
    "    @Override\n",
    "    public void imprimeIngredientes() {\n",
    "        System.out.println(\"Pizza de Calabresa: (queijo + calabresa + tomate)\");\n",
    "    }\n",
    "}\n",
    "public class PizzaPresunto implements Pizza{\n",
    "    @Override\n",
    "    public void imprimeIngredientes() {\n",
    "        System.out.println(\"Pizza de Presunto: (queijo + presunto + tomate)\");\n",
    "    }\n",
    "}\n"
   ]
  },
  {
   "cell_type": "code",
   "execution_count": 139,
   "metadata": {
    "vscode": {
     "languageId": "java"
    }
   },
   "outputs": [],
   "source": [
    "public class CalzoneCalabresa implements Calzone {\n",
    "    @Override\n",
    "    public void imprimeIngredientes() {\n",
    "        System.out.println(\"Calzone de Calabresa: (queijo + calabresa + tomate)\");\n",
    "    }\n",
    "}\n",
    "\n",
    "public class CalzonePresunto implements Calzone {\n",
    "    @Override\n",
    "    public void imprimeIngredientes() {\n",
    "        System.out.println(\"Calzone de Presunto: (queijo + presunto + tomate)\");\n",
    "    }\n",
    "}"
   ]
  },
  {
   "cell_type": "markdown",
   "metadata": {},
   "source": [
    "#### Definindo a _Abstract Factory_"
   ]
  },
  {
   "cell_type": "code",
   "execution_count": 140,
   "metadata": {
    "vscode": {
     "languageId": "java"
    }
   },
   "outputs": [],
   "source": [
    "public interface Pizzaiolo   {        \n",
    "    public Pizza fazPizza();\n",
    "    public Calzone fazCalzone();\n",
    "}"
   ]
  },
  {
   "cell_type": "markdown",
   "metadata": {},
   "source": [
    "#### Definindo as _Factories_ Concretas"
   ]
  },
  {
   "cell_type": "code",
   "execution_count": 141,
   "metadata": {
    "vscode": {
     "languageId": "java"
    }
   },
   "outputs": [],
   "source": [
    "public class PizzaioloCalabresa implements Pizzaiolo {\n",
    "    @Override\n",
    "    public Calzone fazCalzone() {\n",
    "        return new CalzoneCalabresa();\n",
    "    }\n",
    "    @Override\n",
    "    public Pizza fazPizza() {\n",
    "        return new PizzaCalabresa();\n",
    "    }\n",
    "}\n",
    "public class PizzaioloPresunto implements Pizzaiolo{\n",
    "    @Override\n",
    "    public Calzone fazCalzone() {\n",
    "        return new CalzonePresunto();\n",
    "    }\n",
    "    @Override\n",
    "    public Pizza fazPizza() {\n",
    "        return new PizzaPresunto();\n",
    "    }\n",
    "}"
   ]
  },
  {
   "cell_type": "markdown",
   "metadata": {},
   "source": [
    "#### Definindo o _Client_"
   ]
  },
  {
   "cell_type": "code",
   "execution_count": 142,
   "metadata": {
    "vscode": {
     "languageId": "java"
    }
   },
   "outputs": [],
   "source": [
    "import java.time.DayOfWeek;\n",
    "import java.time.format.DateTimeFormatter;\n",
    "import java.time.format.TextStyle;\n",
    "import java.util.Locale;\n",
    "import java.time.format.DateTimeParseException;\n",
    "public class ClientPizza {\n",
    "    \n",
    "    Pizza pizza;\n",
    "    Calzone calzone;\n",
    "    Pizzaiolo pizzaiolo;\n",
    "\n",
    "    public static String getDayOfWeek(String data) {\n",
    "        DateTimeFormatter parser = DateTimeFormatter.ofPattern(\"dd/MM/yyyy\");\n",
    "        DayOfWeek dow = DayOfWeek.from(parser.parse(data));\n",
    "        return dow.getDisplayName(TextStyle.SHORT, new Locale(\"pt\", \"BR\")).toUpperCase();\n",
    "    }\n",
    "\n",
    "    public void fazPedido(String data){\n",
    "        try{\n",
    "            String diaDaSemana = getDayOfWeek(data);\n",
    "\n",
    "            System.out.println(diaDaSemana);\n",
    "\n",
    "            if(diaDaSemana.contains(\"DOM\")){\n",
    "                System.out.println(\"Pizzaria Fechada\");\n",
    "                return;\n",
    "            }\n",
    "\n",
    "            if (diaDaSemana.contains(\"SEG\") || diaDaSemana.contains(\"QUA\") || diaDaSemana.contains(\"SEX\") ) {\n",
    "                this.pizzaiolo = new PizzaioloCalabresa();\n",
    "            }else\n",
    "                this.pizzaiolo = new PizzaioloPresunto();\n",
    "\n",
    "\n",
    "            Pizza pizza = this.pizzaiolo.fazPizza();\n",
    "            pizza.imprimeIngredientes();\n",
    "            Calzone calzone = this.pizzaiolo.fazCalzone();\n",
    "            calzone.imprimeIngredientes();\n",
    "\n",
    "        }catch(DateTimeParseException e){\n",
    "            System.out.println(\"Data inválida\");\n",
    "        }\n",
    "    }\n",
    "}"
   ]
  },
  {
   "cell_type": "code",
   "execution_count": 143,
   "metadata": {
    "vscode": {
     "languageId": "java"
    }
   },
   "outputs": [
    {
     "name": "stdout",
     "output_type": "stream",
     "text": [
      "Data inválida\n",
      "\n",
      "TER\n",
      "Pizza de Presunto: (queijo + presunto + tomate)\n",
      "Calzone de Presunto: (queijo + presunto + tomate)\n",
      "\n",
      "QUA\n",
      "Pizza de Calabresa: (queijo + calabresa + tomate)\n",
      "Calzone de Calabresa: (queijo + calabresa + tomate)\n",
      "\n",
      "DOM\n",
      "Pizzaria Fechada\n",
      "\n"
     ]
    }
   ],
   "source": [
    "Client_pizza cliente = new Client_pizza();\n",
    "cliente.fazPedido(\"32/11/2023\"); // Inválida\n",
    "System.out.println(\"\");\n",
    "\n",
    "cliente.fazPedido(\"28/11/2023\"); // Terça\n",
    "System.out.println(\"\");\n",
    "\n",
    "cliente.fazPedido(\"29/11/2023\"); // Quarta\n",
    "System.out.println(\"\");\n",
    "\n",
    "cliente.fazPedido(\"03/12/2023\"); // Domingo\n",
    "System.out.println(\"\");\n"
   ]
  },
  {
   "cell_type": "markdown",
   "metadata": {},
   "source": [
    "Vemos que com as abstrações o cliente precisa simplesmente carregar uma Factory Abstrata do Pizzaiolo para receber os Products concretos da Pizza e do Calzone de Calabresa ou Presunto. O cliente carrega só um código para imprimir os ingredientes da Pizza e do Calzone sem saber qual o tipo desses Products.\n",
    "\n",
    "Usando o padrão de Abstract Factory vemos que por tudo ser baseado em abstrações, adicionar um novo produto é facil e os outros módulos não serão afetados. Adicionar sabores de Pizza ou Calzone também é fácil pois temos que somente dar override nas funções e mudar um pouco o código do cliente.\n",
    "\n",
    "O Abstract Factory nos permite dar a certeza pro cliente que o Product (Pizza ou Calzone nesse contexto) são compátiveis com os métodos e ele também permite que nós evitamos colocar produtos concretos no código do client. O problema que podemos perceber com este padrão é que são introduzidos códigos bastante complexos (uso de interfaces) em contextos simples, porém para casos onde Produtos novos são introduzidos constantemente esse padrão de projeto é interessante."
   ]
  },
  {
   "cell_type": "markdown",
   "metadata": {},
   "source": [
    "# Execícios sobre o Padrão de Projeto Factory"
   ]
  },
  {
   "cell_type": "markdown",
   "metadata": {},
   "source": [
    "## 3.1 "
   ]
  },
  {
   "cell_type": "markdown",
   "metadata": {},
   "source": [
    "No exercício foi pedido que fossem criadas duas aplicações de construção de nome, uma para cada formato. \n",
    "Os formatos podem ser \"nome sobrenome\" ou \"sobrenome, nome\". Para isso, implementei o factory method com \n",
    "duas classes (NameSimple e NameComplex) que implementam a interface Name, que possui um método que imprime o nome. \n",
    "Esses são os produtos. \n",
    "\n",
    "\n",
    "Também implementei a fábrica como uma interface chamada NameFactory, com um método de criar um nome. Essa interface é implementada por NameFactorySimple\n",
    "e NameFactoryComplex. Assim, quando o usuário desejar criar um objeto Name, ele chamará a fábrica, que por sua vez,\n",
    "criará o objeto name, sendo NameSimple ou NameComplex.\n",
    "\n",
    "\n",
    "ENTRADA: \"McNealy, Scott\" \"James Gosling\" \"Naughton, Patrick\"\n",
    "\n",
    "\n",
    "SAÍDA:  \n",
    "\n",
    "James Gosling\n",
    "         \n",
    "Scott McNealy\n",
    "         \n",
    "Patrick Naughton"
   ]
  },
  {
   "cell_type": "code",
   "execution_count": 144,
   "metadata": {
    "vscode": {
     "languageId": "java"
    }
   },
   "outputs": [],
   "source": [
    "public interface Name {\n",
    "    public void print();\n",
    "}"
   ]
  },
  {
   "cell_type": "code",
   "execution_count": 145,
   "metadata": {
    "vscode": {
     "languageId": "java"
    }
   },
   "outputs": [],
   "source": [
    "public class NameSimple implements Name {\n",
    "    private String first_name;\n",
    "    private String last_name;\n",
    "    public NameSimple(String first_name, String last_name) {\n",
    "        this.first_name = first_name;\n",
    "        this.last_name = last_name;\n",
    "    }\n",
    "    @Override\n",
    "    public void print() {\n",
    "        System.out.println(this.first_name + ' ' +   this.last_name);\n",
    "    }\n",
    "    \n",
    "}\n",
    "\n",
    "public class NameComplex implements Name {\n",
    "    private String first_name;\n",
    "    private String last_name;\n",
    "\n",
    "    public NameComplex(String first_name, String last_name) {\n",
    "        this.first_name = first_name;\n",
    "        this.last_name = last_name;\n",
    "    }\n",
    "    @Override\n",
    "    public void print() {\n",
    "        System.out.println(this.first_name + \" \" +   this.last_name);\n",
    "    }\n",
    "    \n",
    "}"
   ]
  },
  {
   "cell_type": "code",
   "execution_count": 146,
   "metadata": {
    "vscode": {
     "languageId": "java"
    }
   },
   "outputs": [],
   "source": [
    "public interface NameFactory {\n",
    "    public Name createName(String name);\n",
    "}"
   ]
  },
  {
   "cell_type": "code",
   "execution_count": 147,
   "metadata": {
    "vscode": {
     "languageId": "java"
    }
   },
   "outputs": [],
   "source": [
    "public class NameSimpleFactory implements NameFactory {\n",
    "    \n",
    "   \n",
    "    @Override\n",
    "    public Name createName(String name) {\n",
    "        String[] namesplt = name.split(\" \");\n",
    "        String first_name = namesplt[0];\n",
    "        String last_name = namesplt[1];\n",
    "       return new NameSimple(first_name, last_name);\n",
    "    }\n",
    "    \n",
    "}\n",
    "\n",
    "public class NameComplexFactory implements NameFactory {\n",
    "\n",
    "    @Override\n",
    "    public Name createName(String name) {\n",
    "        String[] namesplt = name.split(\" \");\n",
    "        String first_name = namesplt[1];\n",
    "        String last_name = namesplt[0].substring(0, namesplt[0].length() - 1);\n",
    "        return new NameComplex(first_name, last_name);\n",
    "    }\n",
    "    \n",
    "}"
   ]
  },
  {
   "cell_type": "code",
   "execution_count": 148,
   "metadata": {
    "vscode": {
     "languageId": "java"
    }
   },
   "outputs": [],
   "source": [
    "String[] input = new String[]{\"McNealy, Scott\", \"James Gosling\", \"Naughton, Patrick\"};"
   ]
  },
  {
   "cell_type": "code",
   "execution_count": 149,
   "metadata": {
    "vscode": {
     "languageId": "java"
    }
   },
   "outputs": [
    {
     "name": "stdout",
     "output_type": "stream",
     "text": [
      "Scott McNealy\n",
      "James Gosling\n",
      "Patrick Naughton\n"
     ]
    }
   ],
   "source": [
    "//cria as fábricas para nomes simples e complexos\n",
    "NameSimpleFactory simpleFactory = new NameSimpleFactory();\n",
    "NameComplexFactory complexFactory = new NameComplexFactory();\n",
    "\n",
    "//lê a entrada, identifica se é nome simples ou complexo e chama a fábrica correspondente\n",
    "for (String name : input) {\n",
    "\n",
    "    String[] nameSplt = name.split(\" \");\n",
    "    if (nameSplt[0].substring(nameSplt[0].length() - 1).equals(\",\")) {\n",
    "        \n",
    "        Name namePrint = complexFactory.createName(name);\n",
    "        namePrint.print();\n",
    "    }\n",
    "    else {\n",
    "        Name namePrint = simpleFactory.createName(name);\n",
    "        namePrint.print();\n",
    "    }\n",
    "}    \n",
    " "
   ]
  },
  {
   "cell_type": "markdown",
   "metadata": {},
   "source": [
    "## 3.2"
   ]
  },
  {
   "cell_type": "markdown",
   "metadata": {},
   "source": [
    "No exercício foi pedido que dada uma senha passada pelo usuário, caso essa senha fosse \"designpatterns\", deveria ser mostrada uma mensagem lida de um arquivo confidencial, caso contrario uma mensagem lida de um arquivo público.\n",
    "\n",
    "\n",
    "Para isso utilizei uma interface Info que possui um método que imprime a mensagem do arquivo e duas classes que implementam essa interface: InfoConfidential e InfoPublic\n",
    "Ao invés da factory ser uma interface, usei uma forma de factory method um pouco diferente do execício anterior, optando por uma classe InfoFactory, que dada uma entrada (senha), verifica se a senha é correta ou não, e lê o arquivo correspondente. \n",
    "\n",
    "Ou seja, \n",
    "a verificação se a senha está certa não ocorre na Main e sim na própria factory. \n",
    "Os arquivos estão como documentos texto, publico.txt e confidencial.txt. "
   ]
  },
  {
   "cell_type": "code",
   "execution_count": 150,
   "metadata": {
    "vscode": {
     "languageId": "java"
    }
   },
   "outputs": [],
   "source": [
    "import java.io.File;\n",
    "import java.io.FileNotFoundException;\n",
    "import java.util.Scanner;"
   ]
  },
  {
   "cell_type": "code",
   "execution_count": 151,
   "metadata": {
    "vscode": {
     "languageId": "java"
    }
   },
   "outputs": [],
   "source": [
    "public interface Info {\n",
    "    public void printFile();\n",
    "}"
   ]
  },
  {
   "cell_type": "code",
   "execution_count": 152,
   "metadata": {
    "vscode": {
     "languageId": "java"
    }
   },
   "outputs": [],
   "source": [
    "public class InfoConfidential implements Info {\n",
    "    private String message;\n",
    "    public InfoConfidential(String message) {\n",
    "        this.message = message;     \n",
    "    \n",
    "    }\n",
    "    @Override\n",
    "    public void printFile() {\n",
    "        System.out.println(message);\n",
    "    }\n",
    "\n",
    "    \n",
    "}\n",
    "\n",
    "public class InfoPublic implements Info{\n",
    "    \n",
    "    private String message;\n",
    "    public InfoPublic(String message) {\n",
    "        this.message = message;       \n",
    "    }\n",
    "\n",
    "    \n",
    "    @Override\n",
    "    public void printFile() {\n",
    "        System.out.println(this.message);\n",
    "    }\n",
    "\n",
    "    \n",
    "}"
   ]
  },
  {
   "cell_type": "code",
   "execution_count": 153,
   "metadata": {
    "vscode": {
     "languageId": "java"
    }
   },
   "outputs": [],
   "source": [
    "\n",
    "public class InfoFactory {\n",
    "\n",
    "    private String readFile(String path) {\n",
    "        try {\n",
    "            String message = \"\";\n",
    "            File file = new File(path);\n",
    "            Scanner myReader = new Scanner(file);\n",
    "        while (myReader.hasNextLine()) {\n",
    "            message += myReader.nextLine();            \n",
    "        }\n",
    "        myReader.close();\n",
    "\n",
    "        return message;\n",
    "\n",
    "        } catch (FileNotFoundException e) {\n",
    "            System.out.println(\"An error occurred.\");\n",
    "            e.printStackTrace();\n",
    "            return null;\n",
    "        }\n",
    "        \n",
    "    }\n",
    " \n",
    "    public Info createInfo(String passwrord) {\n",
    "        if (passwrord.equals(\"designpatterns\"))           \n",
    "            return new InfoConfidential(readFile(\"confidencial.txt\"));        \n",
    "        else \n",
    "            return new InfoPublic(readFile(\"publico.txt\"));\n",
    "        \n",
    "    }\n",
    "\n",
    "}"
   ]
  },
  {
   "cell_type": "code",
   "execution_count": 154,
   "metadata": {
    "vscode": {
     "languageId": "java"
    }
   },
   "outputs": [
    {
     "name": "stdout",
     "output_type": "stream",
     "text": [
      "Estas sao informacoes publicas sobre qualquer coisa. Todo mundo pode ver este arquivo.\n",
      "Estas sao informacoes confidenciais, o que significa que voce provavelmente sabe a palavra secreta!\n"
     ]
    }
   ],
   "source": [
    "//cria a fábrica\n",
    "InfoFactory factory = new InfoFactory();\n",
    "// cria o objeto Info por meio da factory InfoFactory, que retorna InfoConfidential ou InfoPublic,\n",
    "// dependendo se a senha estiver correta.\n",
    "Info info = factory.createInfo(\"skaodskaodka\");\n",
    "//chama o método de Info que imprime na tela a mensagem\n",
    "info.printFile();\n",
    "\n",
    "Info info2 = factory.createInfo(\"designpatterns\");\n",
    "//chama o método de Info que imprime na tela a mensagem\n",
    "info2.printFile();\n"
   ]
  },
  {
   "cell_type": "markdown",
   "metadata": {},
   "source": [
    "# Exercícios sobre Padrão de Projeto Decorator"
   ]
  },
  {
   "cell_type": "markdown",
   "metadata": {},
   "source": [
    "## 4.1"
   ]
  },
  {
   "cell_type": "code",
   "execution_count": 2,
   "metadata": {
    "vscode": {
     "languageId": "java"
    }
   },
   "outputs": [],
   "source": [
    "import java.time.LocalTime;\n",
    "import java.time.format.DateTimeFormatter;\n",
    "import java.time.LocalDateTime;"
   ]
  },
  {
   "cell_type": "markdown",
   "metadata": {},
   "source": [
    "Componente é a interface comum a todos, decoradores e objetos"
   ]
  },
  {
   "cell_type": "code",
   "execution_count": 3,
   "metadata": {
    "vscode": {
     "languageId": "java"
    }
   },
   "outputs": [],
   "source": [
    "public interface Componente {\n",
    "    public void executarTarefa() throws InterruptedException;\n",
    "}"
   ]
  },
  {
   "cell_type": "markdown",
   "metadata": {},
   "source": [
    "Componente Concreto a classe do objeto q está sendo decorado e é tbm quem define a função a ser exercutada"
   ]
  },
  {
   "cell_type": "code",
   "execution_count": 4,
   "metadata": {
    "vscode": {
     "languageId": "java"
    }
   },
   "outputs": [],
   "source": [
    "public class ComponenteConcreto implements Componente {\n",
    "    \n",
    "    public void executarTarefa() throws InterruptedException { Thread.sleep(2000); }\n",
    "\n",
    "}"
   ]
  },
  {
   "cell_type": "markdown",
   "metadata": {},
   "source": [
    "Interceptador1 é o decorador cronômetro cronometra e printa o tempo de execução do programa"
   ]
  },
  {
   "cell_type": "code",
   "execution_count": 5,
   "metadata": {
    "vscode": {
     "languageId": "java"
    }
   },
   "outputs": [],
   "source": [
    "public class Interceptador1 implements Componente {\n",
    "\n",
    "    private Componente componente;\n",
    "\n",
    "    public Interceptador1(Componente componente){\n",
    "        this.componente = componente;\n",
    "    }\n",
    "\n",
    "    public void executarTarefa() throws InterruptedException {\n",
    "        \n",
    "        long antes = System.currentTimeMillis();\n",
    "        componente.executarTarefa();\n",
    "        long depois = System.currentTimeMillis();\n",
    "        System.out.print((depois - antes) + \"ms\");\n",
    "    }\n",
    "    \n",
    "}"
   ]
  },
  {
   "cell_type": "markdown",
   "metadata": {},
   "source": [
    "Interceptador2 é o decorador log que imprime a hora e data antes da execução da função"
   ]
  },
  {
   "cell_type": "code",
   "execution_count": 6,
   "metadata": {
    "vscode": {
     "languageId": "java"
    }
   },
   "outputs": [],
   "source": [
    "public class Interceptador2 implements Componente {\n",
    "\n",
    "    private Componente componente;\n",
    "\n",
    "    public Interceptador2(Componente componente) {\n",
    "        this.componente = componente;\n",
    "    }\n",
    "\n",
    "    public void executarTarefa() throws InterruptedException {\n",
    "        DateTimeFormatter dtf = DateTimeFormatter.ofPattern(\"dd/MM/yyyy HH:mm:ss\");\n",
    "        LocalDateTime now = LocalDateTime.now();\n",
    "        System.out.print(dtf.format(now) + \": \"); //01/02/2019 14:08:43\n",
    "        componente.executarTarefa();\n",
    "    }\n",
    "\n",
    "}"
   ]
  },
  {
   "cell_type": "markdown",
   "metadata": {},
   "source": [
    "Interceptador3 é o decorador condicional que para o programa caso o horário do sistema tenha minuto par"
   ]
  },
  {
   "cell_type": "code",
   "execution_count": 9,
   "metadata": {
    "vscode": {
     "languageId": "java"
    }
   },
   "outputs": [],
   "source": [
    "public class Interceptador3 implements Componente {\n",
    "\n",
    "    private Componente componente;\n",
    "\n",
    "    public Interceptador3(Componente componente) {\n",
    "        this.componente = componente;\n",
    "    }\n",
    "\n",
    "    public void executarTarefa() throws InterruptedException {\n",
    "        DateTimeFormatter dtf = DateTimeFormatter.ofPattern(\"HH:mm:ss\");\n",
    "        LocalTime now = LocalTime.now();\n",
    "        if (now.getMinute()%2 == 0){\n",
    "            System.out.println(\"Execução interrompida em minuto par: \" + dtf.format(now)); //01/02/2019 14:08:43\n",
    "        }\n",
    "        else{\n",
    "        componente.executarTarefa();\n",
    "        }\n",
    "    }\n",
    "\n",
    "}"
   ]
  },
  {
   "cell_type": "code",
   "execution_count": 10,
   "metadata": {
    "vscode": {
     "languageId": "java"
    }
   },
   "outputs": [
    {
     "name": "stdout",
     "output_type": "stream",
     "text": [
      "28/11/2023 18:03:41: "
     ]
    },
    {
     "name": "stdout",
     "output_type": "stream",
     "text": [
      "2000ms"
     ]
    }
   ],
   "source": [
    "Componente c;\n",
    "c = new Interceptador2(new Interceptador3(new Interceptador1(new ComponenteConcreto())));\n",
    "\n",
    "c.executarTarefa(); // Executar em minuto impar"
   ]
  },
  {
   "cell_type": "code",
   "execution_count": 11,
   "metadata": {
    "vscode": {
     "languageId": "java"
    }
   },
   "outputs": [
    {
     "name": "stdout",
     "output_type": "stream",
     "text": [
      "28/11/2023 18:04:03: Execução interrompida em minuto par: 18:04:03\n"
     ]
    }
   ],
   "source": [
    "c.executarTarefa(); // Executar em minuto par"
   ]
  },
  {
   "cell_type": "markdown",
   "metadata": {},
   "source": [
    "\n",
    "Nessa situação o padrão Decorator está sendo utilizado para que a função a ser executada compra o padrão exigido \n",
    "pelo sistema e apresente os condicionais necessários na ordem em que foi pedido\n"
   ]
  },
  {
   "cell_type": "markdown",
   "metadata": {},
   "source": [
    "## 4.2\n"
   ]
  },
  {
   "cell_type": "markdown",
   "metadata": {},
   "source": [
    "Componente é a interface comum a todos, decoradores e objetos"
   ]
  },
  {
   "cell_type": "code",
   "execution_count": 163,
   "metadata": {
    "vscode": {
     "languageId": "java"
    }
   },
   "outputs": [],
   "source": [
    "public interface Componente2 {\n",
    "    public void imprimir();\n",
    "}"
   ]
  },
  {
   "cell_type": "markdown",
   "metadata": {},
   "source": [
    "NumeroUm a classe do objeto q está sendo decorado e é tbm quem define a função a ser exercutada"
   ]
  },
  {
   "cell_type": "code",
   "execution_count": 164,
   "metadata": {
    "vscode": {
     "languageId": "java"
    }
   },
   "outputs": [],
   "source": [
    "public class NumeroUm implements Componente2 {\n",
    "\n",
    "    public void imprimir() {System.out.print(\"1\");}\n",
    "}"
   ]
  },
  {
   "cell_type": "markdown",
   "metadata": {},
   "source": [
    "Interceptador_Chave é o decorador que printa uma chave antes e depois da execução da função"
   ]
  },
  {
   "cell_type": "code",
   "execution_count": 165,
   "metadata": {
    "vscode": {
     "languageId": "java"
    }
   },
   "outputs": [],
   "source": [
    "public class Interceptador_Chave implements Componente2 {\n",
    "\n",
    "    private Componente2 componente;\n",
    "\n",
    "    public Interceptador_Chave(Componente2 componente){\n",
    "        this.componente = componente;\n",
    "    }\n",
    "\n",
    "    public void imprimir(){\n",
    "        System.out.print(\"{\");\n",
    "        componente.imprimir();\n",
    "        System.out.print(\"}\");\n",
    "    }\n",
    "    \n",
    "}"
   ]
  },
  {
   "cell_type": "markdown",
   "metadata": {},
   "source": [
    "Interceptador_Colchete é o decorador que printa o colchete antes e depois da execução da função"
   ]
  },
  {
   "cell_type": "code",
   "execution_count": 166,
   "metadata": {
    "vscode": {
     "languageId": "java"
    }
   },
   "outputs": [],
   "source": [
    "public class Interceptador_Colchete implements Componente2 {\n",
    "\n",
    "    private Componente2 componente;\n",
    "\n",
    "    public Interceptador_Colchete(Componente2 componente){\n",
    "        this.componente = componente;\n",
    "    }\n",
    "\n",
    "    public void imprimir(){\n",
    "        System.out.print(\"[\");\n",
    "        componente.imprimir();\n",
    "        System.out.print(\"]\");\n",
    "    }\n",
    "    \n",
    "}"
   ]
  },
  {
   "cell_type": "markdown",
   "metadata": {},
   "source": [
    "Interceptador_Parenteses é o decorador que printa um parênteses antes e depois da execução da função"
   ]
  },
  {
   "cell_type": "code",
   "execution_count": 167,
   "metadata": {
    "vscode": {
     "languageId": "java"
    }
   },
   "outputs": [],
   "source": [
    "public class Interceptador_Parenteses implements Componente2 {\n",
    "\n",
    "    private Componente2 componente;\n",
    "\n",
    "    public Interceptador_Parenteses(Componente2 componente){\n",
    "        this.componente = componente;\n",
    "    }\n",
    "\n",
    "    public void imprimir(){\n",
    "        System.out.print(\"(\");\n",
    "        componente.imprimir();\n",
    "        System.out.print(\")\");\n",
    "    }\n",
    "    \n",
    "}"
   ]
  },
  {
   "cell_type": "markdown",
   "metadata": {},
   "source": [
    "Nessa situação o padrão Decorator está sendo utilizado para demostrar as possibilidades de uso do padrão\n",
    "uma vez que o padrão Decorator serve como um envoltório que envolve a função principal e não necessariamente apresenta uma ordem de execução entre si\n"
   ]
  },
  {
   "cell_type": "code",
   "execution_count": 168,
   "metadata": {
    "vscode": {
     "languageId": "java"
    }
   },
   "outputs": [
    {
     "name": "stdout",
     "output_type": "stream",
     "text": [
      "[{([1])}]"
     ]
    }
   ],
   "source": [
    "Componente2 c;\n",
    "c =  new Interceptador_Colchete(new Interceptador_Chave(new Interceptador_Parenteses(new Interceptador_Colchete(new NumeroUm()))));\n",
    "\n",
    "c.imprimir();"
   ]
  },
  {
   "cell_type": "code",
   "execution_count": 169,
   "metadata": {
    "vscode": {
     "languageId": "java"
    }
   },
   "outputs": [
    {
     "name": "stdout",
     "output_type": "stream",
     "text": [
      "[{([{[(1)]}])}]"
     ]
    }
   ],
   "source": [
    "c =  new Interceptador_Colchete(new Interceptador_Chave(new Interceptador_Parenteses(new Interceptador_Colchete(new Interceptador_Chave(new Interceptador_Colchete(new Interceptador_Parenteses(new NumeroUm())))))));\n",
    "\n",
    "c.imprimir();"
   ]
  }
 ],
 "metadata": {
  "kernelspec": {
   "display_name": "Java",
   "language": "java",
   "name": "java"
  },
  "language_info": {
   "codemirror_mode": "java",
   "file_extension": ".jshell",
   "mimetype": "text/x-java-source",
   "name": "Java",
   "pygments_lexer": "java",
   "version": "11.0.14.1+1-LTS"
  },
  "orig_nbformat": 4
 },
 "nbformat": 4,
 "nbformat_minor": 2
}
