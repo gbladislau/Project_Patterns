{
 "cells": [
  {
   "cell_type": "markdown",
   "metadata": {},
   "source": [
    "# Execícios sobre o Padrão de Projeto AbstractFactory"
   ]
  },
  {
   "cell_type": "markdown",
   "metadata": {},
   "source": [
    "## 1.1 Hello"
   ]
  },
  {
   "cell_type": "markdown",
   "metadata": {},
   "source": [
    "Para implementar este padrão de projeto para o problema proposto é necessário estabelecer:\n",
    "\n",
    "* **_Product_**: neste caso a interface _Hello_, que possui o método _helloWord()_ que nas classes concretas é implementado ou no prompt quanto no output.txt; \n",
    "* **_AbstractFactory_**: neste caso seria a interface _AbsHelloFactory_ para representar as factories da interface _Hello_;\n",
    "* **Factories Concretas**: neste caso seriam as classes concretas de _HelloStringFactory_ e _HelloTxtFactory_;\n",
    "* **Products Concretos**: neste caso seriam as classes concretas que implementam _HelloString_ e _HelloTxt_;\n",
    "* **_Client_**: representa o consumidor e é implementado pela classe _Client_;"
   ]
  },
  {
   "cell_type": "code",
   "execution_count": 54,
   "metadata": {
    "vscode": {
     "languageId": "java"
    }
   },
   "outputs": [],
   "source": [
    "import java.io.BufferedWriter;\n",
    "import java.io.FileWriter;\n",
    "import java.io.IOException;\n",
    "import java.util.Random;"
   ]
  },
  {
   "cell_type": "markdown",
   "metadata": {},
   "source": [
    "#### Interfaces para representar o Product e a AbstractFactory"
   ]
  },
  {
   "cell_type": "code",
   "execution_count": 49,
   "metadata": {
    "vscode": {
     "languageId": "java"
    }
   },
   "outputs": [],
   "source": [
    "public interface Hello {\n",
    "    public void helloWorld();\n",
    "}\n",
    "\n",
    "public interface AbsHelloFactory {\n",
    "    public Hello createHello();\n",
    "}"
   ]
  },
  {
   "cell_type": "markdown",
   "metadata": {},
   "source": [
    "#### Classes para implementar as Factories e Products concretos"
   ]
  },
  {
   "cell_type": "code",
   "execution_count": 50,
   "metadata": {
    "vscode": {
     "languageId": "java"
    }
   },
   "outputs": [],
   "source": [
    "public class HelloString implements Hello{\n",
    "    @Override\n",
    "    public void helloWorld() {\n",
    "        System.out.println(\"Hello, World\");\n",
    "    }\n",
    "}\n",
    "\n",
    "public class HelloStringFactory implements AbsHelloFactory{\n",
    "    @Override\n",
    "    public Hello createHello() {\n",
    "        return new HelloString();\n",
    "    }\n",
    "}"
   ]
  },
  {
   "cell_type": "code",
   "execution_count": 51,
   "metadata": {
    "vscode": {
     "languageId": "java"
    }
   },
   "outputs": [],
   "source": [
    "public class HelloTxt implements Hello {\n",
    "    @Override\n",
    "    public void helloWorld() {\n",
    "        try {\n",
    "            String str = \"Hello, World\";\n",
    "            BufferedWriter writer = new BufferedWriter(new FileWriter(\"output.txt\"));\n",
    "            writer.write(str);\n",
    "            writer.close();\n",
    "        } catch (IOException e) {\n",
    "            System.out.println(\"ERRO DE IO\");\n",
    "        }\n",
    "    }\n",
    "\n",
    "}\n",
    "\n",
    "public class HelloTxtFactory implements AbsHelloFactory{\n",
    "    @Override\n",
    "    public Hello createHello() {\n",
    "        return new HelloTxt();\n",
    "    }\n",
    "}\n"
   ]
  },
  {
   "cell_type": "markdown",
   "metadata": {},
   "source": [
    "#### Definindo o _Client_"
   ]
  },
  {
   "cell_type": "code",
   "execution_count": 56,
   "metadata": {
    "vscode": {
     "languageId": "java"
    }
   },
   "outputs": [
    {
     "name": "stdout",
     "output_type": "stream",
     "text": [
      "Hello, World\n"
     ]
    }
   ],
   "source": [
    "public class Client {\n",
    "\n",
    "    public AbsHelloFactory helloFactory;\n",
    "    public Hello hello;\n",
    "\n",
    "    Client(){\n",
    "        Random random = new Random();\n",
    "        if (random.nextBoolean()) {\n",
    "            this.helloFactory = new HelloStringFactory();\n",
    "        }\n",
    "        else{\n",
    "            this.helloFactory = new HelloTxtFactory();\n",
    "        }\n",
    "    }\n",
    "}\n",
    "\n",
    "Client a = new Client();\n",
    "a.hello = a.helloFactory.createHello();\n",
    "\n",
    "a.hello.helloWorld();"
   ]
  },
  {
   "cell_type": "markdown",
   "metadata": {},
   "source": [
    "Vemos que como está implementado o cliente independente de quantas vezes ele chame a criação de um produto novo ele sempre será ou HelloTxt ou HelloString já que sua factory não muda.\n",
    "\n",
    "O padrão Abstract Factory garante para o cliente que ele não necessita de saber qual Hello ele vai receber mas que ele sempre vai gerar um Hello, World no final.\n"
   ]
  },
  {
   "cell_type": "markdown",
   "metadata": {},
   "source": [
    "## 1.2 Pizzaria"
   ]
  },
  {
   "cell_type": "markdown",
   "metadata": {},
   "source": [
    "Para implementar este padrão de projeto para o problema da Pizzaria é necessário estabelecer:\n",
    "\n",
    "* **_Product_**: neste caso a interface _Pizza_ e _Calzone_, que possui o método _imprimeIngredientes()_ que faz oque seu nome indica; \n",
    "* **_AbstractFactory_**: neste caso seria a interface _Pizzaiolo_ para representar as factories das interfaces dos _Products_ _Pizza_ e _Calzone_;\n",
    "* **Factories Concretas**: neste caso seriam as classes concretas de Pizzaiolos Calabresa e Presunto;\n",
    "* **Products Concretos**: neste caso seriam as classes concretas que implementam Pizza e Calzone, PizzaPresunto, PizzaCalabresa, CalzonePresunto e CalzoneCalbresa;\n",
    "* **_Client_**: representa o consumidor e é implementado pela classe ClientPizza;"
   ]
  },
  {
   "cell_type": "markdown",
   "metadata": {},
   "source": [
    "#### Definindo os dois _Products_ na sua forma abstrata"
   ]
  },
  {
   "cell_type": "code",
   "execution_count": 1,
   "metadata": {
    "vscode": {
     "languageId": "java"
    }
   },
   "outputs": [],
   "source": [
    "public interface Pizza {\n",
    "    void imprimeIngredientes();\n",
    "}\n",
    "public interface Calzone {\n",
    "    void imprimeIngredientes();\n",
    "}"
   ]
  },
  {
   "cell_type": "markdown",
   "metadata": {},
   "source": [
    "#### As definições concretas destes _Products_ (Calabresa e presunto)"
   ]
  },
  {
   "cell_type": "code",
   "execution_count": 10,
   "metadata": {
    "vscode": {
     "languageId": "java"
    }
   },
   "outputs": [],
   "source": [
    "public class PizzaCalabresa implements Pizza{\n",
    "    @Override\n",
    "    public void imprimeIngredientes() {\n",
    "        System.out.println(\"Pizza de Calabresa: (queijo + calabresa + tomate)\");\n",
    "    }\n",
    "}\n",
    "public class PizzaPresunto implements Pizza{\n",
    "    @Override\n",
    "    public void imprimeIngredientes() {\n",
    "        System.out.println(\"Pizza de Presunto: (queijo + presunto + tomate)\");\n",
    "    }\n",
    "}\n"
   ]
  },
  {
   "cell_type": "code",
   "execution_count": 11,
   "metadata": {
    "vscode": {
     "languageId": "java"
    }
   },
   "outputs": [],
   "source": [
    "public class CalzoneCalabresa implements Calzone {\n",
    "    @Override\n",
    "    public void imprimeIngredientes() {\n",
    "        System.out.println(\"Calzone de Calabresa: (queijo + calabresa + tomate)\");\n",
    "    }\n",
    "}\n",
    "\n",
    "public class CalzonePresunto implements Calzone {\n",
    "    @Override\n",
    "    public void imprimeIngredientes() {\n",
    "        System.out.println(\"Calzone de Presunto: (queijo + presunto + tomate)\");\n",
    "    }\n",
    "}"
   ]
  },
  {
   "cell_type": "markdown",
   "metadata": {},
   "source": [
    "#### Definindo a _Abstract Factory_"
   ]
  },
  {
   "cell_type": "code",
   "execution_count": 12,
   "metadata": {
    "vscode": {
     "languageId": "java"
    }
   },
   "outputs": [],
   "source": [
    "public interface Pizzaiolo   {        \n",
    "    public Pizza fazPizza();\n",
    "    public Calzone fazCalzone();\n",
    "}"
   ]
  },
  {
   "cell_type": "markdown",
   "metadata": {},
   "source": [
    "#### Definindo as _Factories_ Concretas"
   ]
  },
  {
   "cell_type": "code",
   "execution_count": 5,
   "metadata": {
    "vscode": {
     "languageId": "java"
    }
   },
   "outputs": [],
   "source": [
    "public class PizzaioloCalabresa implements Pizzaiolo {\n",
    "    @Override\n",
    "    public Calzone fazCalzone() {\n",
    "        return new CalzoneCalabresa();\n",
    "    }\n",
    "    @Override\n",
    "    public Pizza fazPizza() {\n",
    "        return new PizzaCalabresa();\n",
    "    }\n",
    "}\n",
    "public class PizzaioloPresunto implements Pizzaiolo{\n",
    "    @Override\n",
    "    public Calzone fazCalzone() {\n",
    "        return new CalzonePresunto();\n",
    "    }\n",
    "    @Override\n",
    "    public Pizza fazPizza() {\n",
    "        return new PizzaPresunto();\n",
    "    }\n",
    "}"
   ]
  },
  {
   "cell_type": "markdown",
   "metadata": {},
   "source": [
    "#### Definindo o _Client_"
   ]
  },
  {
   "cell_type": "code",
   "execution_count": 6,
   "metadata": {
    "vscode": {
     "languageId": "java"
    }
   },
   "outputs": [],
   "source": [
    "import java.time.DayOfWeek;\n",
    "import java.time.format.DateTimeFormatter;\n",
    "import java.time.format.TextStyle;\n",
    "import java.util.Locale;\n",
    "import java.time.format.DateTimeParseException;\n",
    "public class ClientPizza {\n",
    "    \n",
    "    Pizza pizza;\n",
    "    Calzone calzone;\n",
    "    Pizzaiolo pizzaiolo;\n",
    "\n",
    "    public static String getDayOfWeek(String data) {\n",
    "        DateTimeFormatter parser = DateTimeFormatter.ofPattern(\"dd/MM/yyyy\");\n",
    "        DayOfWeek dow = DayOfWeek.from(parser.parse(data));\n",
    "        return dow.getDisplayName(TextStyle.SHORT, new Locale(\"pt\", \"BR\")).toUpperCase();\n",
    "    }\n",
    "\n",
    "    public void fazPedido(String data){\n",
    "        try{\n",
    "            String diaDaSemana = getDayOfWeek(data);\n",
    "\n",
    "            System.out.println(diaDaSemana);\n",
    "\n",
    "            if(diaDaSemana.contains(\"DOM\")){\n",
    "                System.out.println(\"Pizzaria Fechada\");\n",
    "                return;\n",
    "            }\n",
    "\n",
    "            if (diaDaSemana.contains(\"SEG\") || diaDaSemana.contains(\"QUA\") || diaDaSemana.contains(\"SEX\") ) {\n",
    "                this.pizzaiolo = new PizzaioloCalabresa();\n",
    "            }else\n",
    "                this.pizzaiolo = new PizzaioloPresunto();\n",
    "\n",
    "\n",
    "            Pizza pizza = this.pizzaiolo.fazPizza();\n",
    "            pizza.imprimeIngredientes();\n",
    "            Calzone calzone = this.pizzaiolo.fazCalzone();\n",
    "            calzone.imprimeIngredientes();\n",
    "\n",
    "        }catch(DateTimeParseException e){\n",
    "            System.out.println(\"Data inválida\");\n",
    "        }\n",
    "    }\n",
    "}"
   ]
  },
  {
   "cell_type": "code",
   "execution_count": 8,
   "metadata": {
    "vscode": {
     "languageId": "java"
    }
   },
   "outputs": [
    {
     "name": "stdout",
     "output_type": "stream",
     "text": [
      "Data inválida\n",
      "\n",
      "TER\n",
      "Pizza de Presunto: (queijo + presunto + tomate)\n",
      "Calzone de Presunto: (queijo + presunto + tomate)\n",
      "\n",
      "QUA\n",
      "Pizza de Calabresa: (queijo + calabresa + tomate)\n",
      "Calzone de Calabresa: (queijo + calabresa + tomate)\n"
     ]
    },
    {
     "name": "stdout",
     "output_type": "stream",
     "text": [
      "\n",
      "DOM\n",
      "Pizzaria Fechada\n",
      "\n"
     ]
    }
   ],
   "source": [
    "Client_pizza cliente = new Client_pizza();\n",
    "cliente.fazPedido(\"32/11/2023\"); // Inválida\n",
    "System.out.println(\"\");\n",
    "\n",
    "cliente.fazPedido(\"28/11/2023\"); // Terça\n",
    "System.out.println(\"\");\n",
    "\n",
    "cliente.fazPedido(\"29/11/2023\"); // Quarta\n",
    "System.out.println(\"\");\n",
    "\n",
    "cliente.fazPedido(\"03/12/2023\"); // Domingo\n",
    "System.out.println(\"\");\n"
   ]
  },
  {
   "cell_type": "markdown",
   "metadata": {},
   "source": [
    "Vemos que com as abstrações o cliente precisa simplesmente carregar uma Factory Abstrata do Pizzaiolo para receber os Products concretos da Pizza e do Calzone de Calabresa ou Presunto. O cliente carrega só um código para imprimir os ingredientes da Pizza e do Calzone sem saber qual o tipo desses Products.\n",
    "\n",
    "Usando o padrão de Abstract Factory vemos que por tudo ser baseado em abstrações, adicionar um novo produto é facil e os outros módulos não serão afetados. Adicionar sabores de Pizza ou Calzone também é fácil pois temos que somente dar override nas funções e mudar um pouco o código do cliente.\n",
    "\n",
    "O Abstract Factory nos permite dar a certeza pro cliente que o Product (Pizza ou Calzone nesse contexto) são compátiveis com os métodos e ele também permite que nós evitamos colocar produtos concretos no código do client. O problema que podemos perceber com este padrão é que são introduzidos códigos bastante complexos (uso de interfaces) em contextos simples, porém para casos onde Produtos novos são introduzidos constantemente esse padrão de projeto é interessante."
   ]
  },
  {
   "cell_type": "markdown",
   "metadata": {},
   "source": [
    "# Execícios sobre o Padrão de Projeto Factory"
   ]
  },
  {
   "cell_type": "markdown",
   "metadata": {},
   "source": [
    "## 3.1 "
   ]
  },
  {
   "cell_type": "markdown",
   "metadata": {},
   "source": [
    "No exercício foi pedido que fossem criadas duas aplicações de construção de nome, uma para cada formato. \n",
    "Os formatos podem ser \"nome sobrenome\" ou \"sobrenome, nome\". Para isso, implementei o factory method com \n",
    "duas classes (NameSimple e NameComplex) que implementam a interface Name, que possui um método que imprime o nome. \n",
    "Esses são os produtos. \n",
    "\n",
    "\n",
    "Também implementei a fábrica como uma interface chamada NameFactory, com um método de criar um nome. Essa interface é implementada por NameFactorySimple\n",
    "e NameFactoryComplex. Assim, quando o usuário desejar criar um objeto Name, ele chamará a fábrica, que por sua vez,\n",
    "criará o objeto name, sendo NameSimple ou NameComplex.\n",
    "\n",
    "\n",
    "ENTRADA: \"McNealy, Scott\" \"James Gosling\" \"Naughton, Patrick\"\n",
    "\n",
    "\n",
    "SAÍDA:  \n",
    "\n",
    "James Gosling\n",
    "         \n",
    "Scott McNealy\n",
    "         \n",
    "Patrick Naughton"
   ]
  },
  {
   "cell_type": "code",
   "execution_count": null,
   "metadata": {
    "vscode": {
     "languageId": "java"
    }
   },
   "outputs": [],
   "source": [
    "public interface Name {\n",
    "    public void print();\n",
    "}"
   ]
  },
  {
   "cell_type": "markdown",
   "metadata": {},
   "source": []
  }
 ],
 "metadata": {
  "kernelspec": {
   "display_name": "Java",
   "language": "java",
   "name": "java"
  },
  "language_info": {
   "codemirror_mode": "java",
   "file_extension": ".jshell",
   "mimetype": "text/x-java-source",
   "name": "Java",
   "pygments_lexer": "java",
   "version": "11.0.14.1+1-LTS"
  },
  "orig_nbformat": 4
 },
 "nbformat": 4,
 "nbformat_minor": 2
}
